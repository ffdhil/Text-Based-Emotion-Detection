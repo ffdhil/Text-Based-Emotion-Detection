{
 "cells": [
  {
   "cell_type": "code",
   "execution_count": 2,
   "metadata": {
    "_uuid": "303e72966af732ddef0bd8108a321095314e44af",
    "scrolled": true
   },
   "outputs": [],
   "source": [
    "# DataFrame\n",
    "import pandas as pd\n",
    "\n",
    "# Matplot\n",
    "import matplotlib.pyplot as plt\n",
    "%matplotlib inline\n",
    "\n",
    "# Scikit-learn\n",
    "from sklearn.model_selection import train_test_split\n",
    "from sklearn.preprocessing import LabelEncoder\n",
    "from sklearn.metrics import confusion_matrix, classification_report, accuracy_score\n",
    "\n",
    "# Keras\n",
    "from keras.preprocessing.text import Tokenizer\n",
    "from keras_preprocessing.sequence import pad_sequences\n",
    "from keras.models import Sequential\n",
    "from keras.layers import Activation, Dense, Dropout, Embedding, Flatten, Conv1D, MaxPooling1D, LSTM, Bidirectional\n",
    "from keras import utils\n",
    "from keras.callbacks import ReduceLROnPlateau, EarlyStopping\n",
    "\n",
    "# nltk\n",
    "import nltk\n",
    "from nltk.corpus import stopwords\n",
    "\n",
    "#sastrawi\n",
    "from Sastrawi.Stemmer.StemmerFactory import StemmerFactory\n",
    "\n",
    "# Word2vec\n",
    "import gensim\n",
    "\n",
    "# Utility\n",
    "import re\n",
    "import numpy as np\n",
    "from collections import Counter\n",
    "import logging\n",
    "import time\n",
    "import pickle\n",
    "import itertools\n",
    "\n",
    "# Set log\n",
    "logging.basicConfig(format='%(asctime)s : %(levelname)s : %(message)s', level=logging.INFO)"
   ]
  },
  {
   "cell_type": "code",
   "execution_count": 3,
   "metadata": {
    "_uuid": "35e1a89dead5fd160e4c9a024a21d2e569fc89ff"
   },
   "outputs": [
    {
     "name": "stderr",
     "output_type": "stream",
     "text": [
      "[nltk_data] Downloading package stopwords to\n",
      "[nltk_data]     C:\\Users\\Hp\\AppData\\Roaming\\nltk_data...\n",
      "[nltk_data]   Package stopwords is already up-to-date!\n"
     ]
    },
    {
     "data": {
      "text/plain": [
       "True"
      ]
     },
     "execution_count": 3,
     "metadata": {},
     "output_type": "execute_result"
    }
   ],
   "source": [
    "nltk.download('stopwords')"
   ]
  },
  {
   "cell_type": "markdown",
   "metadata": {
    "_uuid": "e8b01a07df001e4abcc745900336c4db06e455f3"
   },
   "source": [
    "### Settings"
   ]
  },
  {
   "cell_type": "code",
   "execution_count": 4,
   "metadata": {
    "_uuid": "180f0dd2a95419e4602b5c0229822b0111c826f6"
   },
   "outputs": [],
   "source": [
    "# DATASET\n",
    "DATASET_COLUMNS = [\"user\", \"time\", \"text\", \"label\"]\n",
    "DATASET_ENCODING = \"ISO-8859-1\"\n",
    "TRAIN_SIZE = 0.9\n",
    "\n",
    "# TEXT CLENAING\n",
    "TEXT_CLEANING_RE = \"@\\S+|https?:\\S+|http?:\\S|[^A-Za-z0-9]+\"\n",
    "\n",
    "# WORD2VEC \n",
    "W2V_SIZE = 300\n",
    "W2V_WINDOW = 7\n",
    "W2V_EPOCH = 32\n",
    "W2V_MIN_COUNT = 10\n",
    "\n",
    "# KERAS\n",
    "SEQUENCE_LENGTH = 300\n",
    "EPOCHS = 12\n",
    "BATCH_SIZE = 1024"
   ]
  },
  {
   "cell_type": "markdown",
   "metadata": {
    "_uuid": "1c3beecc618be68480b3d4f0de08d9d863da1dc1"
   },
   "source": [
    "### Read Dataset"
   ]
  },
  {
   "cell_type": "code",
   "execution_count": 5,
   "metadata": {
    "_uuid": "bba8f91cd70de4f5ea0fb0870ae2029b6e3dcc24",
    "scrolled": true
   },
   "outputs": [],
   "source": [
    "df = pd.read_csv('D:/NLP/Dataset/campurst2.csv', encoding =DATASET_ENCODING , names=DATASET_COLUMNS)"
   ]
  },
  {
   "cell_type": "code",
   "execution_count": 6,
   "metadata": {
    "_uuid": "936d499c00c4f1648bc16ca9d283c3b39be7fb10"
   },
   "outputs": [
    {
     "name": "stdout",
     "output_type": "stream",
     "text": [
      "Dataset size: 31044\n"
     ]
    }
   ],
   "source": [
    "print(\"Dataset size:\", len(df))"
   ]
  },
  {
   "cell_type": "code",
   "execution_count": 7,
   "metadata": {
    "_uuid": "7486ed895b813c5246f97b31b6162b0f65ff763b"
   },
   "outputs": [
    {
     "data": {
      "text/html": [
       "<div>\n",
       "<style scoped>\n",
       "    .dataframe tbody tr th:only-of-type {\n",
       "        vertical-align: middle;\n",
       "    }\n",
       "\n",
       "    .dataframe tbody tr th {\n",
       "        vertical-align: top;\n",
       "    }\n",
       "\n",
       "    .dataframe thead th {\n",
       "        text-align: right;\n",
       "    }\n",
       "</style>\n",
       "<table border=\"1\" class=\"dataframe\">\n",
       "  <thead>\n",
       "    <tr style=\"text-align: right;\">\n",
       "      <th></th>\n",
       "      <th>user</th>\n",
       "      <th>time</th>\n",
       "      <th>text</th>\n",
       "      <th>label</th>\n",
       "    </tr>\n",
       "  </thead>\n",
       "  <tbody>\n",
       "    <tr>\n",
       "      <th>0</th>\n",
       "      <td>sianturi_enjoy</td>\n",
       "      <td>9/30/2017 4:46</td>\n",
       "      <td>tolong doong koridor b12 trayek jangan pendek ...</td>\n",
       "      <td>2</td>\n",
       "    </tr>\n",
       "    <tr>\n",
       "      <th>1</th>\n",
       "      <td>aldialga</td>\n",
       "      <td>9/29/2017 23:43</td>\n",
       "      <td>oke terima kasih min</td>\n",
       "      <td>1</td>\n",
       "    </tr>\n",
       "    <tr>\n",
       "      <th>2</th>\n",
       "      <td>must_sigit</td>\n",
       "      <td>9/29/2017 23:34</td>\n",
       "      <td>mantap jaya</td>\n",
       "      <td>1</td>\n",
       "    </tr>\n",
       "    <tr>\n",
       "      <th>3</th>\n",
       "      <td>dy518</td>\n",
       "      <td>9/29/2017 22:31</td>\n",
       "      <td>hrus kondisi tugas dimonas ragunannya perhatik...</td>\n",
       "      <td>3</td>\n",
       "    </tr>\n",
       "    <tr>\n",
       "      <th>4</th>\n",
       "      <td>dy518</td>\n",
       "      <td>9/29/2017 22:30</td>\n",
       "      <td>lama banget hari padahal semanggi tidak macet2...</td>\n",
       "      <td>2</td>\n",
       "    </tr>\n",
       "  </tbody>\n",
       "</table>\n",
       "</div>"
      ],
      "text/plain": [
       "             user             time  \\\n",
       "0  sianturi_enjoy   9/30/2017 4:46   \n",
       "1        aldialga  9/29/2017 23:43   \n",
       "2      must_sigit  9/29/2017 23:34   \n",
       "3           dy518  9/29/2017 22:31   \n",
       "4           dy518  9/29/2017 22:30   \n",
       "\n",
       "                                                text  label  \n",
       "0  tolong doong koridor b12 trayek jangan pendek ...      2  \n",
       "1                               oke terima kasih min      1  \n",
       "2                                        mantap jaya      1  \n",
       "3  hrus kondisi tugas dimonas ragunannya perhatik...      3  \n",
       "4  lama banget hari padahal semanggi tidak macet2...      2  "
      ]
     },
     "execution_count": 7,
     "metadata": {},
     "output_type": "execute_result"
    }
   ],
   "source": [
    "df.head(5)"
   ]
  },
  {
   "cell_type": "code",
   "execution_count": 8,
   "metadata": {
    "_uuid": "14074b59106cb9550440839e48b832223fc9502f"
   },
   "outputs": [],
   "source": [
    "encoder = LabelEncoder()\n",
    "df['labelEncoded'] = encoder.fit_transform(df['label'])"
   ]
  },
  {
   "cell_type": "code",
   "execution_count": 9,
   "metadata": {},
   "outputs": [],
   "source": [
    "df.label = df['labelEncoded']"
   ]
  },
  {
   "cell_type": "code",
   "execution_count": 10,
   "metadata": {
    "_uuid": "19eb327803192f31cce3512aacb232f4d6b38715",
    "scrolled": false
   },
   "outputs": [
    {
     "data": {
      "text/plain": [
       "Text(0.5, 1.0, 'Dataset labels distribuition')"
      ]
     },
     "execution_count": 10,
     "metadata": {},
     "output_type": "execute_result"
    },
    {
     "data": {
      "image/png": "[encoded data removed]",
      "text/plain": [
       "<Figure size 1152x576 with 1 Axes>"
      ]
     },
     "metadata": {
      "needs_background": "light"
     },
     "output_type": "display_data"
    }
   ],
   "source": [
    "label_cnt = Counter(df.label)\n",
    "\n",
    "plt.figure(figsize=(16,8))\n",
    "plt.bar(label_cnt.keys(), label_cnt.values())\n",
    "plt.title(\"Dataset labels distribuition\")"
   ]
  },
  {
   "cell_type": "markdown",
   "metadata": {
    "_uuid": "4329b1573518b03e497213efa7676220734ebb4b"
   },
   "source": [
    "### Pre-Process dataset"
   ]
  },
  {
   "cell_type": "code",
   "execution_count": 11,
   "metadata": {
    "_uuid": "8aeee8b7b9ea11b749c7f91cd4787a7b50ed1a91"
   },
   "outputs": [],
   "source": [
    "stop_words = stopwords.words(\"indonesian\")\n",
    "factory = StemmerFactory()\n",
    "stemmer = factory.create_stemmer()"
   ]
  },
  {
   "cell_type": "code",
   "execution_count": 12,
   "metadata": {
    "_uuid": "649ebcb97969b9ac4301138783704bb3d7846a49"
   },
   "outputs": [],
   "source": [
    "def preprocess(text, stem=False):\n",
    "    # Remove link,user and special characters\n",
    "    text = re.sub(TEXT_CLEANING_RE, ' ', str(text).lower()).strip()\n",
    "    tokens = []\n",
    "    for token in text.split():\n",
    "        if token not in stop_words:\n",
    "            if stem:\n",
    "                tokens.append(stemmer.stem(token))\n",
    "            else:\n",
    "                tokens.append(token)\n",
    "    return \" \".join(tokens)"
   ]
  },
  {
   "cell_type": "code",
   "execution_count": 13,
   "metadata": {
    "_uuid": "f7f3e77ab9291d14687c49e71ba9b2b1e3323432"
   },
   "outputs": [
    {
     "name": "stdout",
     "output_type": "stream",
     "text": [
      "CPU times: total: 3.77 s\n",
      "Wall time: 3.99 s\n"
     ]
    }
   ],
   "source": [
    "%%time\n",
    "df.text = df.text.apply(lambda x: preprocess(x))"
   ]
  },
  {
   "cell_type": "markdown",
   "metadata": {
    "_uuid": "f5f9714a8507409bbe780eebf2855a33e8e6ba37"
   },
   "source": [
    "### Split train and test"
   ]
  },
  {
   "cell_type": "code",
   "execution_count": 14,
   "metadata": {
    "_uuid": "d2b1179c968e3f3910c790ecf0c5b2cbb34b0e68"
   },
   "outputs": [
    {
     "name": "stdout",
     "output_type": "stream",
     "text": [
      "TRAIN size: 27939\n",
      "TEST size: 3105\n"
     ]
    }
   ],
   "source": [
    "df_train, df_test = train_test_split(df, test_size=1-TRAIN_SIZE, random_state=0)\n",
    "print(\"TRAIN size:\", len(df_train))\n",
    "print(\"TEST size:\", len(df_test))"
   ]
  },
  {
   "cell_type": "markdown",
   "metadata": {
    "_uuid": "f08a28aab2c3d16d8b9681a7d5d07587153a1cd6"
   },
   "source": [
    "### Word2Vec "
   ]
  },
  {
   "cell_type": "code",
   "execution_count": 15,
   "metadata": {
    "_uuid": "2461bf564de1b4414841933d0c1d1bee5f5cc5a6"
   },
   "outputs": [
    {
     "name": "stdout",
     "output_type": "stream",
     "text": [
      "CPU times: total: 46.9 ms\n",
      "Wall time: 62 ms\n"
     ]
    }
   ],
   "source": [
    "%%time\n",
    "documents = [_text.split() for _text in df_train.text] "
   ]
  },
  {
   "cell_type": "code",
   "execution_count": 16,
   "metadata": {
    "_uuid": "8e19b9f25801ba86420decc266d2b3e6fb44f1ea"
   },
   "outputs": [
    {
     "name": "stderr",
     "output_type": "stream",
     "text": [
      "2022-07-19 17:22:41,813 : INFO : Word2Vec lifecycle event {'params': 'Word2Vec<vocab=0, vector_size=300, alpha=0.025>', 'datetime': '2022-07-19T17:22:41.813061', 'gensim': '4.2.0', 'python': '3.10.2 (tags/v3.10.2:a58ebcc, Jan 17 2022, 14:12:15) [MSC v.1929 64 bit (AMD64)]', 'platform': 'Windows-10-10.0.22000-SP0', 'event': 'created'}\n"
     ]
    }
   ],
   "source": [
    "w2v_model = gensim.models.word2vec.Word2Vec(vector_size=W2V_SIZE, \n",
    "                                            window=W2V_WINDOW, \n",
    "                                            min_count=W2V_MIN_COUNT, \n",
    "                                            workers=8)"
   ]
  },
  {
   "cell_type": "code",
   "execution_count": 17,
   "metadata": {
    "_uuid": "58d655af07653c594bec6bebcfb302a973b0ad9c"
   },
   "outputs": [
    {
     "name": "stderr",
     "output_type": "stream",
     "text": [
      "2022-07-19 17:22:41,828 : INFO : collecting all words and their counts\n",
      "2022-07-19 17:22:41,830 : INFO : PROGRESS: at sentence #0, processed 0 words, keeping 0 word types\n",
      "2022-07-19 17:22:41,867 : INFO : PROGRESS: at sentence #10000, processed 80331 words, keeping 10397 word types\n",
      "2022-07-19 17:22:41,911 : INFO : PROGRESS: at sentence #20000, processed 160400 words, keeping 15601 word types\n",
      "2022-07-19 17:22:41,935 : INFO : collected 18974 word types from a corpus of 224389 raw words and 27939 sentences\n",
      "2022-07-19 17:22:41,936 : INFO : Creating a fresh vocabulary\n",
      "2022-07-19 17:22:41,967 : INFO : Word2Vec lifecycle event {'msg': 'effective_min_count=10 retains 2302 unique words (12.13% of original 18974, drops 16672)', 'datetime': '2022-07-19T17:22:41.967067', 'gensim': '4.2.0', 'python': '3.10.2 (tags/v3.10.2:a58ebcc, Jan 17 2022, 14:12:15) [MSC v.1929 64 bit (AMD64)]', 'platform': 'Windows-10-10.0.22000-SP0', 'event': 'prepare_vocab'}\n",
      "2022-07-19 17:22:41,968 : INFO : Word2Vec lifecycle event {'msg': 'effective_min_count=10 leaves 192975 word corpus (86.00% of original 224389, drops 31414)', 'datetime': '2022-07-19T17:22:41.968068', 'gensim': '4.2.0', 'python': '3.10.2 (tags/v3.10.2:a58ebcc, Jan 17 2022, 14:12:15) [MSC v.1929 64 bit (AMD64)]', 'platform': 'Windows-10-10.0.22000-SP0', 'event': 'prepare_vocab'}\n",
      "2022-07-19 17:22:41,994 : INFO : deleting the raw counts dictionary of 18974 items\n",
      "2022-07-19 17:22:41,996 : INFO : sample=0.001 downsamples 62 most-common words\n",
      "2022-07-19 17:22:41,997 : INFO : Word2Vec lifecycle event {'msg': 'downsampling leaves estimated 154602.4217892667 word corpus (80.1%% of prior 192975)', 'datetime': '2022-07-19T17:22:41.997074', 'gensim': '4.2.0', 'python': '3.10.2 (tags/v3.10.2:a58ebcc, Jan 17 2022, 14:12:15) [MSC v.1929 64 bit (AMD64)]', 'platform': 'Windows-10-10.0.22000-SP0', 'event': 'prepare_vocab'}\n",
      "2022-07-19 17:22:42,039 : INFO : estimated required memory for 2302 words and 300 dimensions: 6675800 bytes\n",
      "2022-07-19 17:22:42,041 : INFO : resetting layer weights\n",
      "2022-07-19 17:22:42,048 : INFO : Word2Vec lifecycle event {'update': False, 'trim_rule': 'None', 'datetime': '2022-07-19T17:22:42.048073', 'gensim': '4.2.0', 'python': '3.10.2 (tags/v3.10.2:a58ebcc, Jan 17 2022, 14:12:15) [MSC v.1929 64 bit (AMD64)]', 'platform': 'Windows-10-10.0.22000-SP0', 'event': 'build_vocab'}\n"
     ]
    }
   ],
   "source": [
    "w2v_model.build_vocab(documents)"
   ]
  },
  {
   "cell_type": "code",
   "execution_count": 18,
   "metadata": {
    "_uuid": "72a5628ca81fd4b8983c12d93ae0bf950b86b6ae"
   },
   "outputs": [
    {
     "name": "stdout",
     "output_type": "stream",
     "text": [
      "Vocab size 2302\n"
     ]
    }
   ],
   "source": [
    "words = list(w2v_model.wv.index_to_key)\n",
    "vocab_size = len(words)\n",
    "print(\"Vocab size\", vocab_size)"
   ]
  },
  {
   "cell_type": "code",
   "execution_count": 19,
   "metadata": {
    "_uuid": "68c3e4a5ba07cac3dee67f78ecdd1404c7f83f14",
    "scrolled": true
   },
   "outputs": [
    {
     "name": "stderr",
     "output_type": "stream",
     "text": [
      "2022-07-19 17:22:42,084 : INFO : Word2Vec lifecycle event {'msg': 'training model with 8 workers on 2302 vocabulary and 300 features, using sg=0 hs=0 sample=0.001 negative=5 window=7 shrink_windows=True', 'datetime': '2022-07-19T17:22:42.084081', 'gensim': '4.2.0', 'python': '3.10.2 (tags/v3.10.2:a58ebcc, Jan 17 2022, 14:12:15) [MSC v.1929 64 bit (AMD64)]', 'platform': 'Windows-10-10.0.22000-SP0', 'event': 'train'}\n",
      "2022-07-19 17:22:42,369 : INFO : EPOCH 0: training on 224389 raw words (154581 effective words) took 0.3s, 590057 effective words/s\n",
      "2022-07-19 17:22:42,630 : INFO : EPOCH 1: training on 224389 raw words (154440 effective words) took 0.2s, 639534 effective words/s\n",
      "2022-07-19 17:22:42,868 : INFO : EPOCH 2: training on 224389 raw words (154483 effective words) took 0.2s, 735026 effective words/s\n",
      "2022-07-19 17:22:43,140 : INFO : EPOCH 3: training on 224389 raw words (154619 effective words) took 0.2s, 627785 effective words/s\n",
      "2022-07-19 17:22:43,415 : INFO : EPOCH 4: training on 224389 raw words (154473 effective words) took 0.3s, 610271 effective words/s\n",
      "2022-07-19 17:22:43,713 : INFO : EPOCH 5: training on 224389 raw words (154420 effective words) took 0.3s, 579959 effective words/s\n",
      "2022-07-19 17:22:43,955 : INFO : EPOCH 6: training on 224389 raw words (154517 effective words) took 0.2s, 699422 effective words/s\n",
      "2022-07-19 17:22:44,187 : INFO : EPOCH 7: training on 224389 raw words (154682 effective words) took 0.2s, 768592 effective words/s\n",
      "2022-07-19 17:22:44,423 : INFO : EPOCH 8: training on 224389 raw words (154707 effective words) took 0.2s, 722793 effective words/s\n",
      "2022-07-19 17:22:44,656 : INFO : EPOCH 9: training on 224389 raw words (154735 effective words) took 0.2s, 736243 effective words/s\n",
      "2022-07-19 17:22:44,883 : INFO : EPOCH 10: training on 224389 raw words (154729 effective words) took 0.2s, 784679 effective words/s\n",
      "2022-07-19 17:22:45,110 : INFO : EPOCH 11: training on 224389 raw words (154605 effective words) took 0.2s, 756377 effective words/s\n",
      "2022-07-19 17:22:45,352 : INFO : EPOCH 12: training on 224389 raw words (154574 effective words) took 0.2s, 677732 effective words/s\n",
      "2022-07-19 17:22:45,631 : INFO : EPOCH 13: training on 224389 raw words (154597 effective words) took 0.2s, 625553 effective words/s\n",
      "2022-07-19 17:22:45,865 : INFO : EPOCH 14: training on 224389 raw words (154594 effective words) took 0.2s, 724829 effective words/s\n",
      "2022-07-19 17:22:46,118 : INFO : EPOCH 15: training on 224389 raw words (154951 effective words) took 0.2s, 689576 effective words/s\n",
      "2022-07-19 17:22:46,346 : INFO : EPOCH 16: training on 224389 raw words (154616 effective words) took 0.2s, 760589 effective words/s\n",
      "2022-07-19 17:22:46,573 : INFO : EPOCH 17: training on 224389 raw words (154546 effective words) took 0.2s, 799857 effective words/s\n",
      "2022-07-19 17:22:46,823 : INFO : EPOCH 18: training on 224389 raw words (154539 effective words) took 0.2s, 878205 effective words/s\n",
      "2022-07-19 17:22:47,050 : INFO : EPOCH 19: training on 224389 raw words (154637 effective words) took 0.2s, 741450 effective words/s\n",
      "2022-07-19 17:22:47,272 : INFO : EPOCH 20: training on 224389 raw words (154579 effective words) took 0.2s, 801990 effective words/s\n",
      "2022-07-19 17:22:47,498 : INFO : EPOCH 21: training on 224389 raw words (154515 effective words) took 0.2s, 736563 effective words/s\n",
      "2022-07-19 17:22:47,726 : INFO : EPOCH 22: training on 224389 raw words (154721 effective words) took 0.2s, 768077 effective words/s\n",
      "2022-07-19 17:22:47,950 : INFO : EPOCH 23: training on 224389 raw words (154731 effective words) took 0.2s, 812158 effective words/s\n",
      "2022-07-19 17:22:48,180 : INFO : EPOCH 24: training on 224389 raw words (154601 effective words) took 0.2s, 728902 effective words/s\n",
      "2022-07-19 17:22:48,407 : INFO : EPOCH 25: training on 224389 raw words (154697 effective words) took 0.2s, 777736 effective words/s\n",
      "2022-07-19 17:22:48,631 : INFO : EPOCH 26: training on 224389 raw words (154291 effective words) took 0.2s, 765741 effective words/s\n",
      "2022-07-19 17:22:48,854 : INFO : EPOCH 27: training on 224389 raw words (154590 effective words) took 0.2s, 764078 effective words/s\n",
      "2022-07-19 17:22:49,092 : INFO : EPOCH 28: training on 224389 raw words (154825 effective words) took 0.2s, 711575 effective words/s\n",
      "2022-07-19 17:22:49,316 : INFO : EPOCH 29: training on 224389 raw words (154229 effective words) took 0.2s, 744363 effective words/s\n",
      "2022-07-19 17:22:49,550 : INFO : EPOCH 30: training on 224389 raw words (154711 effective words) took 0.2s, 713721 effective words/s\n",
      "2022-07-19 17:22:49,776 : INFO : EPOCH 31: training on 224389 raw words (154361 effective words) took 0.2s, 761299 effective words/s\n",
      "2022-07-19 17:22:49,777 : INFO : Word2Vec lifecycle event {'msg': 'training on 7180448 raw words (4946896 effective words) took 7.7s, 643083 effective words/s', 'datetime': '2022-07-19T17:22:49.777605', 'gensim': '4.2.0', 'python': '3.10.2 (tags/v3.10.2:a58ebcc, Jan 17 2022, 14:12:15) [MSC v.1929 64 bit (AMD64)]', 'platform': 'Windows-10-10.0.22000-SP0', 'event': 'train'}\n"
     ]
    },
    {
     "name": "stdout",
     "output_type": "stream",
     "text": [
      "CPU times: total: 21.7 s\n",
      "Wall time: 7.69 s\n"
     ]
    },
    {
     "data": {
      "text/plain": [
       "(4946896, 7180448)"
      ]
     },
     "execution_count": 19,
     "metadata": {},
     "output_type": "execute_result"
    }
   ],
   "source": [
    "%%time\n",
    "w2v_model.train(documents, total_examples=len(documents), epochs=W2V_EPOCH)"
   ]
  },
  {
   "cell_type": "code",
   "execution_count": 20,
   "metadata": {
    "_uuid": "27cc2651c74227115d8bfd8c40e5618048e05edd",
    "scrolled": false
   },
   "outputs": [
    {
     "data": {
      "text/plain": [
       "[('muas', 0.5966319441795349),\n",
       " ('fasilitas', 0.501778781414032),\n",
       " ('jelek', 0.5016765594482422),\n",
       " ('tingkat', 0.4700796604156494),\n",
       " ('keren', 0.45416370034217834),\n",
       " ('negeri', 0.42927005887031555),\n",
       " ('ala', 0.42482542991638184),\n",
       " ('salut', 0.4200643301010132),\n",
       " ('tahi', 0.41312772035598755),\n",
       " ('bobrok', 0.40010035037994385)]"
      ]
     },
     "execution_count": 20,
     "metadata": {},
     "output_type": "execute_result"
    }
   ],
   "source": [
    "w2v_model.wv.most_similar(\"bagus\")"
   ]
  },
  {
   "cell_type": "markdown",
   "metadata": {
    "_uuid": "e13563644468037258598637b49373ca96b9b879"
   },
   "source": [
    "### Tokenize Text"
   ]
  },
  {
   "cell_type": "code",
   "execution_count": 21,
   "metadata": {
    "_uuid": "6852bc709a7cd20173cbeeb218505078f8f37c57"
   },
   "outputs": [
    {
     "name": "stdout",
     "output_type": "stream",
     "text": [
      "Total words 18975\n",
      "CPU times: total: 500 ms\n",
      "Wall time: 493 ms\n"
     ]
    }
   ],
   "source": [
    "%%time\n",
    "tokenizer = Tokenizer()\n",
    "tokenizer.fit_on_texts(df_train.text)\n",
    "\n",
    "vocab_size = len(tokenizer.word_index) + 1\n",
    "print(\"Total words\", vocab_size)"
   ]
  },
  {
   "cell_type": "code",
   "execution_count": 22,
   "metadata": {
    "_uuid": "45de439df3015030c71f84c2d170346936a1d68f"
   },
   "outputs": [
    {
     "name": "stdout",
     "output_type": "stream",
     "text": [
      "CPU times: total: 500 ms\n",
      "Wall time: 502 ms\n"
     ]
    }
   ],
   "source": [
    "%%time\n",
    "x_train = pad_sequences(tokenizer.texts_to_sequences(df_train.text), maxlen=SEQUENCE_LENGTH)\n",
    "x_test = pad_sequences(tokenizer.texts_to_sequences(df_test.text), maxlen=SEQUENCE_LENGTH)"
   ]
  },
  {
   "cell_type": "markdown",
   "metadata": {
    "_uuid": "03b35903fc6260e190d6928d240ef7432de117fc"
   },
   "source": [
    "### Label Encoder "
   ]
  },
  {
   "cell_type": "code",
   "execution_count": 23,
   "metadata": {
    "_uuid": "04239a9bef76e7922fd86098a5601dfde8ee4665"
   },
   "outputs": [
    {
     "name": "stdout",
     "output_type": "stream",
     "text": [
      "y_train (27939, 1)\n",
      "y_test (3105, 1)\n"
     ]
    }
   ],
   "source": [
    "encoder = LabelEncoder()\n",
    "encoder.fit(df_train.label.tolist())\n",
    "\n",
    "y_train = encoder.transform(df_train.label.tolist())\n",
    "y_test = encoder.transform(df_test.label.tolist())\n",
    "\n",
    "y_train = y_train.reshape(-1,1)\n",
    "y_test = y_test.reshape(-1,1)\n",
    "\n",
    "print(\"y_train\",y_train.shape)\n",
    "print(\"y_test\",y_test.shape)"
   ]
  },
  {
   "cell_type": "code",
   "execution_count": 24,
   "metadata": {
    "_uuid": "04299c886911ca135583ab64878f213939a2990c"
   },
   "outputs": [
    {
     "name": "stdout",
     "output_type": "stream",
     "text": [
      "x_train (27939, 300)\n",
      "y_train (27939, 1)\n",
      "\n",
      "x_test (3105, 300)\n",
      "y_test (3105, 1)\n"
     ]
    }
   ],
   "source": [
    "print(\"x_train\", x_train.shape)\n",
    "print(\"y_train\", y_train.shape)\n",
    "print()\n",
    "print(\"x_test\", x_test.shape)\n",
    "print(\"y_test\", y_test.shape)"
   ]
  },
  {
   "cell_type": "code",
   "execution_count": 25,
   "metadata": {
    "_uuid": "232533fb27b7be99d9b8c2f8fb22c9c6bf121a6f"
   },
   "outputs": [
    {
     "data": {
      "text/plain": [
       "array([[0],\n",
       "       [0],\n",
       "       [1],\n",
       "       [0],\n",
       "       [1],\n",
       "       [0],\n",
       "       [1],\n",
       "       [1],\n",
       "       [0],\n",
       "       [1]], dtype=int64)"
      ]
     },
     "execution_count": 25,
     "metadata": {},
     "output_type": "execute_result"
    }
   ],
   "source": [
    "y_train[:10]"
   ]
  },
  {
   "cell_type": "markdown",
   "metadata": {
    "_uuid": "233c0ea94055a03e2e7df3e2a13d036ec963484f"
   },
   "source": [
    "### Embedding layer"
   ]
  },
  {
   "cell_type": "code",
   "execution_count": 26,
   "metadata": {
    "_uuid": "9ab488374b59e3f30f8b1ea92767d853c4846bac"
   },
   "outputs": [
    {
     "name": "stdout",
     "output_type": "stream",
     "text": [
      "(18975, 300)\n"
     ]
    }
   ],
   "source": [
    "embedding_matrix = np.zeros((vocab_size, W2V_SIZE))\n",
    "for word, i in tokenizer.word_index.items():\n",
    "  if word in w2v_model.wv:\n",
    "    embedding_matrix[i] = w2v_model.wv[word]\n",
    "print(embedding_matrix.shape)"
   ]
  },
  {
   "cell_type": "code",
   "execution_count": 27,
   "metadata": {
    "_uuid": "833279d91e4286065968237fb5f2a0c2dd4d246c"
   },
   "outputs": [],
   "source": [
    "embedding_layer = Embedding(vocab_size, W2V_SIZE, weights=[embedding_matrix], input_length=SEQUENCE_LENGTH, trainable=False)"
   ]
  },
  {
   "cell_type": "markdown",
   "metadata": {
    "_uuid": "b299ef78f94c2085942c993a2d58753a7476305a"
   },
   "source": [
    "### Build Model"
   ]
  },
  {
   "cell_type": "code",
   "execution_count": 28,
   "metadata": {
    "_uuid": "e775ef4f1b74e6412457181383c39f2df554ef3f"
   },
   "outputs": [
    {
     "name": "stdout",
     "output_type": "stream",
     "text": [
      "Model: \"sequential\"\n",
      "_________________________________________________________________\n",
      " Layer (type)                Output Shape              Param #   \n",
      "=================================================================\n",
      " embedding (Embedding)       (None, 300, 300)          5692500   \n",
      "                                                                 \n",
      " conv1d (Conv1D)             (None, 300, 128)          153728    \n",
      "                                                                 \n",
      " max_pooling1d (MaxPooling1D  (None, 150, 128)         0         \n",
      " )                                                               \n",
      "                                                                 \n",
      " conv1d_1 (Conv1D)           (None, 150, 64)           32832     \n",
      "                                                                 \n",
      " max_pooling1d_1 (MaxPooling  (None, 75, 64)           0         \n",
      " 1D)                                                             \n",
      "                                                                 \n",
      " bidirectional (Bidirectiona  (None, 512)              657408    \n",
      " l)                                                              \n",
      "                                                                 \n",
      " dropout (Dropout)           (None, 512)               0         \n",
      "                                                                 \n",
      " dense (Dense)               (None, 256)               131328    \n",
      "                                                                 \n",
      " dense_1 (Dense)             (None, 1)                 257       \n",
      "                                                                 \n",
      "=================================================================\n",
      "Total params: 6,668,053\n",
      "Trainable params: 975,553\n",
      "Non-trainable params: 5,692,500\n",
      "_________________________________________________________________\n"
     ]
    }
   ],
   "source": [
    "model = Sequential()\n",
    "model.add(embedding_layer)\n",
    "model.add(Conv1D(filters=128, kernel_size=4, padding='same', activation='relu'))\n",
    "model.add(MaxPooling1D(pool_size=2))\n",
    "model.add(Conv1D(filters=64, kernel_size=4, padding='same', activation='relu'))\n",
    "model.add(MaxPooling1D(pool_size=2))\n",
    "model.add(Bidirectional(LSTM(256, recurrent_dropout=0.3)))\n",
    "model.add(Dropout(0.3))\n",
    "model.add(Dense(256, activation='relu'))\n",
    "model.add(Dense(1, activation='sigmoid'))\n",
    "\n",
    "model.summary()"
   ]
  },
  {
   "cell_type": "markdown",
   "metadata": {
    "_uuid": "28d22eafd0c7d798dcf3d742bc92fb8577939e6c"
   },
   "source": [
    "### Compile model"
   ]
  },
  {
   "cell_type": "code",
   "execution_count": 29,
   "metadata": {
    "_uuid": "1331e08d590bb2aa2033706c8faca217afc0f1c3"
   },
   "outputs": [],
   "source": [
    "model.compile(loss='binary_crossentropy',\n",
    "              optimizer=\"adam\",\n",
    "              metrics=['accuracy'])"
   ]
  },
  {
   "cell_type": "markdown",
   "metadata": {
    "_uuid": "c7733127cb8b380e0c807268903bf4d03ef92542"
   },
   "source": [
    "### Callbacks"
   ]
  },
  {
   "cell_type": "code",
   "execution_count": 30,
   "metadata": {
    "_uuid": "a688df590386f5748da6fe00b01904fe6c71619e"
   },
   "outputs": [],
   "source": [
    "callbacks = [ReduceLROnPlateau(monitor='val_loss', patience=5, cooldown=0),\n",
    "             EarlyStopping(monitor='val_accuracy', min_delta=1e-4, patience=5)]"
   ]
  },
  {
   "cell_type": "markdown",
   "metadata": {
    "_uuid": "8d0873633dd49179c8cae17377641b97d323ef3b"
   },
   "source": [
    "### Train"
   ]
  },
  {
   "cell_type": "code",
   "execution_count": 31,
   "metadata": {
    "_uuid": "2b659d390c6577dc5cdb6b6297934279b4e801d5"
   },
   "outputs": [
    {
     "name": "stdout",
     "output_type": "stream",
     "text": [
      "Epoch 1/12\n",
      "25/25 [==============================] - 364s 14s/step - loss: 0.0516 - accuracy: 0.7946 - val_loss: -0.5893 - val_accuracy: 0.9016 - lr: 0.0010\n",
      "Epoch 2/12\n",
      "25/25 [==============================] - 363s 15s/step - loss: -1.8582 - accuracy: 0.8929 - val_loss: -3.5179 - val_accuracy: 0.8819 - lr: 0.0010\n",
      "Epoch 3/12\n",
      "25/25 [==============================] - 370s 15s/step - loss: -8.3877 - accuracy: 0.8859 - val_loss: -11.6031 - val_accuracy: 0.9005 - lr: 0.0010\n",
      "Epoch 4/12\n",
      "25/25 [==============================] - 369s 15s/step - loss: -20.3054 - accuracy: 0.8879 - val_loss: -24.6333 - val_accuracy: 0.8966 - lr: 0.0010\n",
      "Epoch 5/12\n",
      "25/25 [==============================] - 393s 16s/step - loss: -38.7236 - accuracy: 0.8892 - val_loss: -42.6309 - val_accuracy: 0.9059 - lr: 0.0010\n",
      "Epoch 6/12\n",
      "25/25 [==============================] - 387s 16s/step - loss: -64.5915 - accuracy: 0.8918 - val_loss: -57.6262 - val_accuracy: 0.9062 - lr: 0.0010\n",
      "Epoch 7/12\n",
      "25/25 [==============================] - 373s 15s/step - loss: -95.3000 - accuracy: 0.8957 - val_loss: -83.2115 - val_accuracy: 0.9073 - lr: 0.0010\n",
      "Epoch 8/12\n",
      "25/25 [==============================] - 375s 15s/step - loss: -139.4061 - accuracy: 0.8954 - val_loss: -121.1189 - val_accuracy: 0.9084 - lr: 0.0010\n",
      "Epoch 9/12\n",
      "25/25 [==============================] - 373s 15s/step - loss: -191.6798 - accuracy: 0.8965 - val_loss: -155.1104 - val_accuracy: 0.9048 - lr: 0.0010\n",
      "Epoch 10/12\n",
      "25/25 [==============================] - 376s 15s/step - loss: -246.0409 - accuracy: 0.8950 - val_loss: -196.9745 - val_accuracy: 0.9030 - lr: 0.0010\n",
      "Epoch 11/12\n",
      "25/25 [==============================] - 371s 15s/step - loss: -322.1272 - accuracy: 0.8977 - val_loss: -209.5512 - val_accuracy: 0.9062 - lr: 0.0010\n",
      "Epoch 12/12\n",
      "25/25 [==============================] - 376s 15s/step - loss: -388.5954 - accuracy: 0.9004 - val_loss: -318.3647 - val_accuracy: 0.9052 - lr: 0.0010\n",
      "CPU times: total: 4h 21min 38s\n",
      "Wall time: 1h 14min 52s\n"
     ]
    }
   ],
   "source": [
    "%%time\n",
    "history = model.fit(x_train, y_train,\n",
    "                    batch_size=BATCH_SIZE,\n",
    "                    epochs=EPOCHS,\n",
    "                    validation_split=0.1,\n",
    "                    verbose=1,\n",
    "                    callbacks=callbacks)"
   ]
  },
  {
   "cell_type": "markdown",
   "metadata": {
    "_uuid": "267258196d96796ac69a7b8c466314bcf5d6ee42"
   },
   "source": [
    "### Evaluate"
   ]
  },
  {
   "cell_type": "code",
   "execution_count": 32,
   "metadata": {
    "_uuid": "98ecd8f1b8b74594c3ea775dd68a094e92458022"
   },
   "outputs": [
    {
     "name": "stdout",
     "output_type": "stream",
     "text": [
      "4/4 [==============================] - 13s 3s/step - loss: -357.1720 - accuracy: 0.9050\n",
      "\n",
      "ACCURACY: 0.9049919247627258\n",
      "LOSS: -357.1719665527344\n",
      "CPU times: total: 48 s\n",
      "Wall time: 13.2 s\n"
     ]
    }
   ],
   "source": [
    "%%time\n",
    "score = model.evaluate(x_test, y_test, batch_size=BATCH_SIZE)\n",
    "print()\n",
    "print(\"ACCURACY:\",score[1])\n",
    "print(\"LOSS:\",score[0])"
   ]
  },
  {
   "cell_type": "code",
   "execution_count": 33,
   "metadata": {
    "_uuid": "40c72cd1e9d6c4fd799cbba7c813765ac4039dfc"
   },
   "outputs": [
    {
     "data": {
      "image/png": "[encoded data removed]",
      "text/plain": [
       "<Figure size 432x288 with 1 Axes>"
      ]
     },
     "metadata": {
      "needs_background": "light"
     },
     "output_type": "display_data"
    },
    {
     "data": {
      "image/png": "[encoded data removed]",
      "text/plain": [
       "<Figure size 432x288 with 1 Axes>"
      ]
     },
     "metadata": {
      "needs_background": "light"
     },
     "output_type": "display_data"
    }
   ],
   "source": [
    "acc = history.history['accuracy']\n",
    "val_acc = history.history['val_accuracy']\n",
    "loss = history.history['loss']\n",
    "val_loss = history.history['val_loss']\n",
    " \n",
    "epochs = range(len(acc))\n",
    " \n",
    "plt.plot(epochs, acc, 'b', label='Training acc')\n",
    "plt.plot(epochs, val_acc, 'r', label='Validation acc')\n",
    "plt.title('Training and validation accuracy')\n",
    "plt.legend()\n",
    " \n",
    "plt.figure()\n",
    " \n",
    "plt.plot(epochs, loss, 'b', label='Training loss')\n",
    "plt.plot(epochs, val_loss, 'r', label='Validation loss')\n",
    "plt.title('Training and validation loss')\n",
    "plt.legend()\n",
    " \n",
    "plt.show()"
   ]
  },
  {
   "cell_type": "markdown",
   "metadata": {
    "_uuid": "3ee72e47f84b6dbc32e02a783de5ec1661f157e1"
   },
   "source": [
    "### Confusion Matrix"
   ]
  },
  {
   "cell_type": "code",
   "execution_count": 34,
   "metadata": {},
   "outputs": [],
   "source": [
    "import seaborn as sns\n",
    "\n",
    "def ConfusionMatrix(y_pred, y_test):\n",
    "    # Compute and plot the Confusion matrix\n",
    "    cf_matrix = confusion_matrix(y_test, y_pred)\n",
    "\n",
    "    categories  = ['Happy','Angry','Sad','Fear','Suprised']\n",
    "    group_names = ['True Neg','False Pos', 'False Neg','True Pos']\n",
    "    group_percentages = ['{0:.2%}'.format(value) for value in cf_matrix.flatten() / np.sum(cf_matrix)]\n",
    "\n",
    "    labels = [f'{v1}\\n{v2}' for v1, v2 in zip(group_names,group_percentages)]\n",
    "    labels = np.asarray(labels).reshape(2,2)\n",
    "\n",
    "    sns.heatmap(cf_matrix, annot = True, cmap = 'Blues',fmt = '',\n",
    "                xticklabels = categories, yticklabels = categories)\n",
    "\n",
    "    plt.xlabel(\"Predicted values\", fontdict = {'size':14}, labelpad = 10)\n",
    "    plt.ylabel(\"Actual values\"   , fontdict = {'size':14}, labelpad = 10)\n",
    "    plt.title (\"Confusion Matrix\", fontdict = {'size':18}, pad = 20)"
   ]
  },
  {
   "cell_type": "code",
   "execution_count": 35,
   "metadata": {},
   "outputs": [
    {
     "name": "stdout",
     "output_type": "stream",
     "text": [
      "98/98 [==============================] - 19s 188ms/step\n"
     ]
    },
    {
     "data": {
      "image/png": "[encoded data removed]",
      "text/plain": [
       "<Figure size 432x288 with 2 Axes>"
      ]
     },
     "metadata": {
      "needs_background": "light"
     },
     "output_type": "display_data"
    }
   ],
   "source": [
    "# Predicting on the Test dataset.\n",
    "y_pred = model.predict(x_test)\n",
    "\n",
    "# Converting prediction to reflect the sentiment predicted.\n",
    "y_pred = np.where(y_pred>=0.5, 1, 0)\n",
    "\n",
    "# Printing out the Evaluation metrics. \n",
    "ConfusionMatrix(y_pred, y_test)"
   ]
  },
  {
   "cell_type": "markdown",
   "metadata": {
    "_uuid": "e23b957348dcc084249d3cc7538b972da471c2cd"
   },
   "source": [
    "### Classification Report"
   ]
  },
  {
   "cell_type": "code",
   "execution_count": 36,
   "metadata": {
    "_uuid": "a7fe05b7caa1c984ff1deb0be2f7c6bc043df9f5"
   },
   "outputs": [
    {
     "name": "stdout",
     "output_type": "stream",
     "text": [
      "              precision    recall  f1-score   support\n",
      "\n",
      "           0     0.8827    0.8422    0.8620       697\n",
      "           1     0.9111    0.9686    0.9390      2295\n",
      "           2     0.0000    0.0000    0.0000        68\n",
      "           3     0.0000    0.0000    0.0000        36\n",
      "           4     0.0000    0.0000    0.0000         9\n",
      "\n",
      "    accuracy                         0.9050      3105\n",
      "   macro avg     0.3588    0.3622    0.3602      3105\n",
      "weighted avg     0.8715    0.9050    0.8875      3105\n",
      "\n"
     ]
    },
    {
     "name": "stderr",
     "output_type": "stream",
     "text": [
      "C:\\Users\\Hp\\AppData\\Local\\Programs\\Python\\Python310\\lib\\site-packages\\sklearn\\metrics\\_classification.py:1327: UndefinedMetricWarning: Precision and F-score are ill-defined and being set to 0.0 in labels with no predicted samples. Use `zero_division` parameter to control this behavior.\n",
      "  _warn_prf(average, modifier, msg_start, len(result))\n",
      "C:\\Users\\Hp\\AppData\\Local\\Programs\\Python\\Python310\\lib\\site-packages\\sklearn\\metrics\\_classification.py:1327: UndefinedMetricWarning: Precision and F-score are ill-defined and being set to 0.0 in labels with no predicted samples. Use `zero_division` parameter to control this behavior.\n",
      "  _warn_prf(average, modifier, msg_start, len(result))\n",
      "C:\\Users\\Hp\\AppData\\Local\\Programs\\Python\\Python310\\lib\\site-packages\\sklearn\\metrics\\_classification.py:1327: UndefinedMetricWarning: Precision and F-score are ill-defined and being set to 0.0 in labels with no predicted samples. Use `zero_division` parameter to control this behavior.\n",
      "  _warn_prf(average, modifier, msg_start, len(result))\n"
     ]
    }
   ],
   "source": [
    "# Print the evaluation metrics for the dataset.\n",
    "print(classification_report(y_test, y_pred, digits=4))"
   ]
  },
  {
   "cell_type": "markdown",
   "metadata": {
    "_uuid": "4eb300f0c6693a618587c7dcf32f77f5416cbfb9"
   },
   "source": [
    "### Accuracy Score"
   ]
  },
  {
   "cell_type": "code",
   "execution_count": 37,
   "metadata": {
    "_uuid": "5cf76e6e09f8a60ed25947932b94c772eda44d23"
   },
   "outputs": [
    {
     "data": {
      "text/plain": [
       "0.9049919484702094"
      ]
     },
     "execution_count": 37,
     "metadata": {},
     "output_type": "execute_result"
    }
   ],
   "source": [
    "accuracy_score(y_test, y_pred)"
   ]
  },
  {
   "cell_type": "markdown",
   "metadata": {
    "_uuid": "4f014c32f3833db282e1a075c526604f34e3158c"
   },
   "source": [
    "### Save model"
   ]
  },
  {
   "cell_type": "code",
   "execution_count": null,
   "metadata": {
    "_uuid": "3b2b3ad5b592977b404acfa1c9ad303a62837255"
   },
   "outputs": [],
   "source": [
    "model.save(KERAS_MODEL)\n",
    "w2v_model.save(WORD2VEC_MODEL)\n",
    "pickle.dump(tokenizer, open(TOKENIZER_MODEL, \"wb\"), protocol=0)\n",
    "pickle.dump(encoder, open(ENCODER_MODEL, \"wb\"), protocol=0)"
   ]
  },
  {
   "cell_type": "code",
   "execution_count": null,
   "metadata": {
    "_uuid": "cc363c54782894757f5ea8820c6a170f2e16ef93"
   },
   "outputs": [],
   "source": []
  }
 ],
 "metadata": {
  "kernelspec": {
   "display_name": "Python 3 (ipykernel)",
   "language": "python",
   "name": "python3"
  },
  "language_info": {
   "codemirror_mode": {
    "name": "ipython",
    "version": 3
   },
   "file_extension": ".py",
   "mimetype": "text/x-python",
   "name": "python",
   "nbconvert_exporter": "python",
   "pygments_lexer": "ipython3",
   "version": "3.10.2"
  }
 },
 "nbformat": 4,
 "nbformat_minor": 1
}
