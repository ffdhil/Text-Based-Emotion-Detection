{
 "cells": [
  {
   "cell_type": "code",
   "execution_count": 1,
   "metadata": {
    "_uuid": "303e72966af732ddef0bd8108a321095314e44af",
    "scrolled": true
   },
   "outputs": [],
   "source": [
    "# DataFrame\n",
    "import pandas as pd\n",
    "\n",
    "# Matplot\n",
    "import matplotlib.pyplot as plt\n",
    "%matplotlib inline\n",
    "\n",
    "# Scikit-learn\n",
    "from sklearn.model_selection import train_test_split\n",
    "from sklearn.preprocessing import LabelEncoder\n",
    "from sklearn.metrics import confusion_matrix, classification_report, accuracy_score\n",
    "\n",
    "# Keras\n",
    "from keras.preprocessing.text import Tokenizer\n",
    "from keras_preprocessing.sequence import pad_sequences\n",
    "from keras.models import Sequential\n",
    "from keras.layers import Activation, Dense, Dropout, Embedding, Flatten, Conv1D, MaxPooling1D, LSTM, Bidirectional\n",
    "from keras import utils\n",
    "from keras.callbacks import ReduceLROnPlateau, EarlyStopping\n",
    "\n",
    "# nltk\n",
    "import nltk\n",
    "from nltk.corpus import stopwords\n",
    "\n",
    "#sastrawi\n",
    "from Sastrawi.Stemmer.StemmerFactory import StemmerFactory\n",
    "\n",
    "# Word2vec\n",
    "import gensim\n",
    "\n",
    "# Utility\n",
    "import re\n",
    "import numpy as np\n",
    "from collections import Counter\n",
    "import logging\n",
    "import time\n",
    "import pickle\n",
    "import itertools\n",
    "\n",
    "# Set log\n",
    "logging.basicConfig(format='%(asctime)s : %(levelname)s : %(message)s', level=logging.INFO)"
   ]
  },
  {
   "cell_type": "code",
   "execution_count": 2,
   "metadata": {
    "_uuid": "35e1a89dead5fd160e4c9a024a21d2e569fc89ff"
   },
   "outputs": [
    {
     "name": "stderr",
     "output_type": "stream",
     "text": [
      "[nltk_data] Error loading stopwords: <urlopen error [Errno 11001]\n",
      "[nltk_data]     getaddrinfo failed>\n"
     ]
    },
    {
     "data": {
      "text/plain": [
       "False"
      ]
     },
     "execution_count": 2,
     "metadata": {},
     "output_type": "execute_result"
    }
   ],
   "source": [
    "nltk.download('stopwords')"
   ]
  },
  {
   "cell_type": "markdown",
   "metadata": {
    "_uuid": "e8b01a07df001e4abcc745900336c4db06e455f3"
   },
   "source": [
    "### Settings"
   ]
  },
  {
   "cell_type": "code",
   "execution_count": 3,
   "metadata": {
    "_uuid": "180f0dd2a95419e4602b5c0229822b0111c826f6"
   },
   "outputs": [],
   "source": [
    "# DATASET\n",
    "DATASET_COLUMNS = [\"user\", \"time\", \"text\", \"label\"]\n",
    "DATASET_ENCODING = \"ISO-8859-1\"\n",
    "TRAIN_SIZE = 0.9\n",
    "\n",
    "# TEXT CLENAING\n",
    "TEXT_CLEANING_RE = \"@\\S+|https?:\\S+|http?:\\S|[^A-Za-z0-9]+\"\n",
    "\n",
    "# WORD2VEC \n",
    "W2V_SIZE = 300\n",
    "W2V_WINDOW = 7\n",
    "W2V_EPOCH = 32\n",
    "W2V_MIN_COUNT = 10\n",
    "\n",
    "# KERAS\n",
    "SEQUENCE_LENGTH = 300\n",
    "EPOCHS = 12\n",
    "BATCH_SIZE = 1024\n",
    "\n",
    "# SENTIMENT\n",
    "NO_EMOTION = \"NO_EMOTION\"\n",
    "EMOTION = \"EMOTION\""
   ]
  },
  {
   "cell_type": "markdown",
   "metadata": {
    "_uuid": "1c3beecc618be68480b3d4f0de08d9d863da1dc1"
   },
   "source": [
    "### Read Dataset"
   ]
  },
  {
   "cell_type": "code",
   "execution_count": 4,
   "metadata": {
    "_uuid": "bba8f91cd70de4f5ea0fb0870ae2029b6e3dcc24",
    "scrolled": true
   },
   "outputs": [],
   "source": [
    "df = pd.read_csv('D:/NLP/Dataset/campuranst1.csv', encoding =DATASET_ENCODING , names=DATASET_COLUMNS)"
   ]
  },
  {
   "cell_type": "code",
   "execution_count": 5,
   "metadata": {
    "_uuid": "936d499c00c4f1648bc16ca9d283c3b39be7fb10"
   },
   "outputs": [
    {
     "name": "stdout",
     "output_type": "stream",
     "text": [
      "Dataset size: 116063\n"
     ]
    }
   ],
   "source": [
    "print(\"Dataset size:\", len(df))"
   ]
  },
  {
   "cell_type": "code",
   "execution_count": 6,
   "metadata": {
    "_uuid": "7486ed895b813c5246f97b31b6162b0f65ff763b"
   },
   "outputs": [
    {
     "data": {
      "text/html": [
       "<div>\n",
       "<style scoped>\n",
       "    .dataframe tbody tr th:only-of-type {\n",
       "        vertical-align: middle;\n",
       "    }\n",
       "\n",
       "    .dataframe tbody tr th {\n",
       "        vertical-align: top;\n",
       "    }\n",
       "\n",
       "    .dataframe thead th {\n",
       "        text-align: right;\n",
       "    }\n",
       "</style>\n",
       "<table border=\"1\" class=\"dataframe\">\n",
       "  <thead>\n",
       "    <tr style=\"text-align: right;\">\n",
       "      <th></th>\n",
       "      <th>user</th>\n",
       "      <th>time</th>\n",
       "      <th>text</th>\n",
       "      <th>label</th>\n",
       "    </tr>\n",
       "  </thead>\n",
       "  <tbody>\n",
       "    <tr>\n",
       "      <th>0</th>\n",
       "      <td>antoe_21</td>\n",
       "      <td>1/1/2017 7:00</td>\n",
       "      <td>maaf mau tanya kenapaa krl nambo depok berangk...</td>\n",
       "      <td>0</td>\n",
       "    </tr>\n",
       "    <tr>\n",
       "      <th>1</th>\n",
       "      <td>antoe_21</td>\n",
       "      <td>1/1/2017 7:04</td>\n",
       "      <td>brarti ada berangkat jam brapa</td>\n",
       "      <td>0</td>\n",
       "    </tr>\n",
       "    <tr>\n",
       "      <th>2</th>\n",
       "      <td>antoe_21</td>\n",
       "      <td>1/1/2017 7:06</td>\n",
       "      <td>untuk di tiada hanya hari  berangkat jam 645 tsb</td>\n",
       "      <td>0</td>\n",
       "    </tr>\n",
       "    <tr>\n",
       "      <th>3</th>\n",
       "      <td>tabitaindah</td>\n",
       "      <td>1/1/2017 7:10</td>\n",
       "      <td>maaf tidak tahu nomor pokok tadi jakarta kota ...</td>\n",
       "      <td>0</td>\n",
       "    </tr>\n",
       "    <tr>\n",
       "      <th>4</th>\n",
       "      <td>tabitaindah</td>\n",
       "      <td>1/1/2017 7:12</td>\n",
       "      <td>tp tadi jelang berangkat sudah tugas usir2 pin...</td>\n",
       "      <td>0</td>\n",
       "    </tr>\n",
       "  </tbody>\n",
       "</table>\n",
       "</div>"
      ],
      "text/plain": [
       "          user           time  \\\n",
       "0     antoe_21  1/1/2017 7:00   \n",
       "1     antoe_21  1/1/2017 7:04   \n",
       "2     antoe_21  1/1/2017 7:06   \n",
       "3  tabitaindah  1/1/2017 7:10   \n",
       "4  tabitaindah  1/1/2017 7:12   \n",
       "\n",
       "                                                text  label  \n",
       "0  maaf mau tanya kenapaa krl nambo depok berangk...      0  \n",
       "1                     brarti ada berangkat jam brapa      0  \n",
       "2   untuk di tiada hanya hari  berangkat jam 645 tsb      0  \n",
       "3  maaf tidak tahu nomor pokok tadi jakarta kota ...      0  \n",
       "4  tp tadi jelang berangkat sudah tugas usir2 pin...      0  "
      ]
     },
     "execution_count": 6,
     "metadata": {},
     "output_type": "execute_result"
    }
   ],
   "source": [
    "df.head(5)"
   ]
  },
  {
   "cell_type": "code",
   "execution_count": 7,
   "metadata": {
    "_uuid": "14074b59106cb9550440839e48b832223fc9502f"
   },
   "outputs": [],
   "source": [
    "decode_map = {0: \"NO_EMOTION\", 1: \"EMOTION\"}\n",
    "def decode_sentiment(label):\n",
    "    return decode_map[int(label)]"
   ]
  },
  {
   "cell_type": "code",
   "execution_count": 8,
   "metadata": {
    "_uuid": "4449d473187f647a195a6ac6986b009da32a7f4b"
   },
   "outputs": [
    {
     "name": "stdout",
     "output_type": "stream",
     "text": [
      "CPU times: total: 62.5 ms\n",
      "Wall time: 63 ms\n"
     ]
    }
   ],
   "source": [
    "%%time\n",
    "df.label = df.label.apply(lambda x: decode_sentiment(x))"
   ]
  },
  {
   "cell_type": "code",
   "execution_count": 9,
   "metadata": {
    "_uuid": "19eb327803192f31cce3512aacb232f4d6b38715",
    "scrolled": false
   },
   "outputs": [
    {
     "data": {
      "text/plain": [
       "Text(0.5, 1.0, 'Dataset labels distribuition')"
      ]
     },
     "execution_count": 9,
     "metadata": {},
     "output_type": "execute_result"
    },
    {
     "data": {
      "image/png": "[encoded data removed]",
      "text/plain": [
       "<Figure size 1152x576 with 1 Axes>"
      ]
     },
     "metadata": {
      "needs_background": "light"
     },
     "output_type": "display_data"
    }
   ],
   "source": [
    "label_cnt = Counter(df.label)\n",
    "\n",
    "plt.figure(figsize=(16,8))\n",
    "plt.bar(label_cnt.keys(), label_cnt.values())\n",
    "plt.title(\"Dataset labels distribuition\")"
   ]
  },
  {
   "cell_type": "markdown",
   "metadata": {
    "_uuid": "4329b1573518b03e497213efa7676220734ebb4b"
   },
   "source": [
    "### Pre-Process dataset"
   ]
  },
  {
   "cell_type": "code",
   "execution_count": 10,
   "metadata": {
    "_uuid": "8aeee8b7b9ea11b749c7f91cd4787a7b50ed1a91"
   },
   "outputs": [],
   "source": [
    "stop_words = stopwords.words(\"indonesian\")\n",
    "factory = StemmerFactory()\n",
    "stemmer = factory.create_stemmer()"
   ]
  },
  {
   "cell_type": "code",
   "execution_count": 11,
   "metadata": {
    "_uuid": "649ebcb97969b9ac4301138783704bb3d7846a49"
   },
   "outputs": [],
   "source": [
    "def preprocess(text, stem=False):\n",
    "    # Remove link,user and special characters\n",
    "    text = re.sub(TEXT_CLEANING_RE, ' ', str(text).lower()).strip()\n",
    "    tokens = []\n",
    "    for token in text.split():\n",
    "        if token not in stop_words:\n",
    "            if stem:\n",
    "                tokens.append(stemmer.stem(token))\n",
    "            else:\n",
    "                tokens.append(token)\n",
    "    return \" \".join(tokens)"
   ]
  },
  {
   "cell_type": "code",
   "execution_count": 12,
   "metadata": {
    "_uuid": "f7f3e77ab9291d14687c49e71ba9b2b1e3323432"
   },
   "outputs": [
    {
     "name": "stdout",
     "output_type": "stream",
     "text": [
      "CPU times: total: 10.8 s\n",
      "Wall time: 11.3 s\n"
     ]
    }
   ],
   "source": [
    "%%time\n",
    "df.text = df.text.apply(lambda x: preprocess(x))"
   ]
  },
  {
   "cell_type": "markdown",
   "metadata": {
    "_uuid": "f5f9714a8507409bbe780eebf2855a33e8e6ba37"
   },
   "source": [
    "### Split train and test"
   ]
  },
  {
   "cell_type": "code",
   "execution_count": 13,
   "metadata": {
    "_uuid": "d2b1179c968e3f3910c790ecf0c5b2cbb34b0e68"
   },
   "outputs": [
    {
     "name": "stdout",
     "output_type": "stream",
     "text": [
      "TRAIN size: 104456\n",
      "TEST size: 11607\n"
     ]
    }
   ],
   "source": [
    "df_train, df_test = train_test_split(df, test_size=1-TRAIN_SIZE, random_state=0)\n",
    "print(\"TRAIN size:\", len(df_train))\n",
    "print(\"TEST size:\", len(df_test))"
   ]
  },
  {
   "cell_type": "markdown",
   "metadata": {
    "_uuid": "f08a28aab2c3d16d8b9681a7d5d07587153a1cd6"
   },
   "source": [
    "### Word2Vec "
   ]
  },
  {
   "cell_type": "code",
   "execution_count": 14,
   "metadata": {
    "_uuid": "2461bf564de1b4414841933d0c1d1bee5f5cc5a6"
   },
   "outputs": [
    {
     "name": "stdout",
     "output_type": "stream",
     "text": [
      "CPU times: total: 312 ms\n",
      "Wall time: 329 ms\n"
     ]
    }
   ],
   "source": [
    "%%time\n",
    "documents = [_text.split() for _text in df_train.text] "
   ]
  },
  {
   "cell_type": "code",
   "execution_count": 15,
   "metadata": {
    "_uuid": "8e19b9f25801ba86420decc266d2b3e6fb44f1ea"
   },
   "outputs": [
    {
     "name": "stderr",
     "output_type": "stream",
     "text": [
      "2022-07-19 12:28:18,432 : INFO : Word2Vec lifecycle event {'params': 'Word2Vec<vocab=0, vector_size=300, alpha=0.025>', 'datetime': '2022-07-19T12:28:18.432899', 'gensim': '4.2.0', 'python': '3.10.2 (tags/v3.10.2:a58ebcc, Jan 17 2022, 14:12:15) [MSC v.1929 64 bit (AMD64)]', 'platform': 'Windows-10-10.0.22000-SP0', 'event': 'created'}\n"
     ]
    }
   ],
   "source": [
    "w2v_model = gensim.models.word2vec.Word2Vec(vector_size=W2V_SIZE, \n",
    "                                            window=W2V_WINDOW, \n",
    "                                            min_count=W2V_MIN_COUNT, \n",
    "                                            workers=8)"
   ]
  },
  {
   "cell_type": "code",
   "execution_count": 16,
   "metadata": {
    "_uuid": "58d655af07653c594bec6bebcfb302a973b0ad9c"
   },
   "outputs": [
    {
     "name": "stderr",
     "output_type": "stream",
     "text": [
      "2022-07-19 12:28:18,447 : INFO : collecting all words and their counts\n",
      "2022-07-19 12:28:18,448 : INFO : PROGRESS: at sentence #0, processed 0 words, keeping 0 word types\n",
      "2022-07-19 12:28:18,470 : INFO : PROGRESS: at sentence #10000, processed 74230 words, keeping 9215 word types\n",
      "2022-07-19 12:28:18,493 : INFO : PROGRESS: at sentence #20000, processed 147468 words, keeping 14117 word types\n",
      "2022-07-19 12:28:18,513 : INFO : PROGRESS: at sentence #30000, processed 221166 words, keeping 18031 word types\n",
      "2022-07-19 12:28:18,534 : INFO : PROGRESS: at sentence #40000, processed 295349 words, keeping 21443 word types\n",
      "2022-07-19 12:28:18,554 : INFO : PROGRESS: at sentence #50000, processed 368505 words, keeping 24392 word types\n",
      "2022-07-19 12:28:18,576 : INFO : PROGRESS: at sentence #60000, processed 442304 words, keeping 27168 word types\n",
      "2022-07-19 12:28:18,598 : INFO : PROGRESS: at sentence #70000, processed 516172 words, keeping 29720 word types\n",
      "2022-07-19 12:28:18,621 : INFO : PROGRESS: at sentence #80000, processed 590390 words, keeping 32197 word types\n",
      "2022-07-19 12:28:18,643 : INFO : PROGRESS: at sentence #90000, processed 663787 words, keeping 34544 word types\n",
      "2022-07-19 12:28:18,663 : INFO : PROGRESS: at sentence #100000, processed 736798 words, keeping 36720 word types\n",
      "2022-07-19 12:28:18,675 : INFO : collected 37724 word types from a corpus of 769464 raw words and 104456 sentences\n",
      "2022-07-19 12:28:18,676 : INFO : Creating a fresh vocabulary\n",
      "2022-07-19 12:28:18,711 : INFO : Word2Vec lifecycle event {'msg': 'effective_min_count=10 retains 4535 unique words (12.02% of original 37724, drops 33189)', 'datetime': '2022-07-19T12:28:18.711579', 'gensim': '4.2.0', 'python': '3.10.2 (tags/v3.10.2:a58ebcc, Jan 17 2022, 14:12:15) [MSC v.1929 64 bit (AMD64)]', 'platform': 'Windows-10-10.0.22000-SP0', 'event': 'prepare_vocab'}\n",
      "2022-07-19 12:28:18,712 : INFO : Word2Vec lifecycle event {'msg': 'effective_min_count=10 leaves 707959 word corpus (92.01% of original 769464, drops 61505)', 'datetime': '2022-07-19T12:28:18.712579', 'gensim': '4.2.0', 'python': '3.10.2 (tags/v3.10.2:a58ebcc, Jan 17 2022, 14:12:15) [MSC v.1929 64 bit (AMD64)]', 'platform': 'Windows-10-10.0.22000-SP0', 'event': 'prepare_vocab'}\n",
      "2022-07-19 12:28:18,757 : INFO : deleting the raw counts dictionary of 37724 items\n",
      "2022-07-19 12:28:18,759 : INFO : sample=0.001 downsamples 58 most-common words\n",
      "2022-07-19 12:28:18,760 : INFO : Word2Vec lifecycle event {'msg': 'downsampling leaves estimated 554371.2046536263 word corpus (78.3%% of prior 707959)', 'datetime': '2022-07-19T12:28:18.760584', 'gensim': '4.2.0', 'python': '3.10.2 (tags/v3.10.2:a58ebcc, Jan 17 2022, 14:12:15) [MSC v.1929 64 bit (AMD64)]', 'platform': 'Windows-10-10.0.22000-SP0', 'event': 'prepare_vocab'}\n",
      "2022-07-19 12:28:18,826 : INFO : estimated required memory for 4535 words and 300 dimensions: 13151500 bytes\n",
      "2022-07-19 12:28:18,826 : INFO : resetting layer weights\n",
      "2022-07-19 12:28:18,837 : INFO : Word2Vec lifecycle event {'update': False, 'trim_rule': 'None', 'datetime': '2022-07-19T12:28:18.837589', 'gensim': '4.2.0', 'python': '3.10.2 (tags/v3.10.2:a58ebcc, Jan 17 2022, 14:12:15) [MSC v.1929 64 bit (AMD64)]', 'platform': 'Windows-10-10.0.22000-SP0', 'event': 'build_vocab'}\n"
     ]
    }
   ],
   "source": [
    "w2v_model.build_vocab(documents)"
   ]
  },
  {
   "cell_type": "code",
   "execution_count": 17,
   "metadata": {
    "_uuid": "72a5628ca81fd4b8983c12d93ae0bf950b86b6ae"
   },
   "outputs": [
    {
     "name": "stdout",
     "output_type": "stream",
     "text": [
      "Vocab size 4535\n"
     ]
    }
   ],
   "source": [
    "words = list(w2v_model.wv.index_to_key)\n",
    "vocab_size = len(words)\n",
    "print(\"Vocab size\", vocab_size)"
   ]
  },
  {
   "cell_type": "code",
   "execution_count": 18,
   "metadata": {
    "_uuid": "68c3e4a5ba07cac3dee67f78ecdd1404c7f83f14",
    "scrolled": true
   },
   "outputs": [
    {
     "name": "stderr",
     "output_type": "stream",
     "text": [
      "2022-07-19 12:28:18,863 : INFO : Word2Vec lifecycle event {'msg': 'training model with 8 workers on 4535 vocabulary and 300 features, using sg=0 hs=0 sample=0.001 negative=5 window=7 shrink_windows=True', 'datetime': '2022-07-19T12:28:18.863596', 'gensim': '4.2.0', 'python': '3.10.2 (tags/v3.10.2:a58ebcc, Jan 17 2022, 14:12:15) [MSC v.1929 64 bit (AMD64)]', 'platform': 'Windows-10-10.0.22000-SP0', 'event': 'train'}\n",
      "2022-07-19 12:28:19,731 : INFO : EPOCH 0: training on 769464 raw words (553996 effective words) took 0.8s, 662585 effective words/s\n",
      "2022-07-19 12:28:20,674 : INFO : EPOCH 1: training on 769464 raw words (554419 effective words) took 0.9s, 607151 effective words/s\n",
      "2022-07-19 12:28:21,654 : INFO : EPOCH 2: training on 769464 raw words (554949 effective words) took 1.0s, 575056 effective words/s\n",
      "2022-07-19 12:28:22,526 : INFO : EPOCH 3: training on 769464 raw words (554680 effective words) took 0.8s, 658893 effective words/s\n",
      "2022-07-19 12:28:23,390 : INFO : EPOCH 4: training on 769464 raw words (554108 effective words) took 0.8s, 665868 effective words/s\n",
      "2022-07-19 12:28:24,264 : INFO : EPOCH 5: training on 769464 raw words (554418 effective words) took 0.9s, 650092 effective words/s\n",
      "2022-07-19 12:28:25,099 : INFO : EPOCH 6: training on 769464 raw words (554184 effective words) took 0.8s, 681255 effective words/s\n",
      "2022-07-19 12:28:25,961 : INFO : EPOCH 7: training on 769464 raw words (554286 effective words) took 0.8s, 660143 effective words/s\n",
      "2022-07-19 12:28:26,832 : INFO : EPOCH 8: training on 769464 raw words (554685 effective words) took 0.9s, 649607 effective words/s\n",
      "2022-07-19 12:28:27,616 : INFO : EPOCH 9: training on 769464 raw words (554324 effective words) took 0.8s, 732465 effective words/s\n",
      "2022-07-19 12:28:28,626 : INFO : EPOCH 10: training on 769464 raw words (554528 effective words) took 1.0s, 560868 effective words/s\n",
      "2022-07-19 12:28:29,537 : INFO : EPOCH 11: training on 769464 raw words (554277 effective words) took 0.9s, 626848 effective words/s\n",
      "2022-07-19 12:28:30,374 : INFO : EPOCH 12: training on 769464 raw words (554228 effective words) took 0.8s, 676108 effective words/s\n",
      "2022-07-19 12:28:31,253 : INFO : EPOCH 13: training on 769464 raw words (554489 effective words) took 0.9s, 651370 effective words/s\n",
      "2022-07-19 12:28:32,164 : INFO : EPOCH 14: training on 769464 raw words (554577 effective words) took 0.9s, 625500 effective words/s\n",
      "2022-07-19 12:28:33,181 : INFO : EPOCH 15: training on 769464 raw words (554453 effective words) took 1.0s, 556014 effective words/s\n",
      "2022-07-19 12:28:34,053 : INFO : EPOCH 16: training on 769464 raw words (554340 effective words) took 0.9s, 650188 effective words/s\n",
      "2022-07-19 12:28:34,957 : INFO : EPOCH 17: training on 769464 raw words (554126 effective words) took 0.9s, 629096 effective words/s\n",
      "2022-07-19 12:28:35,830 : INFO : EPOCH 18: training on 769464 raw words (554684 effective words) took 0.8s, 652802 effective words/s\n",
      "2022-07-19 12:28:36,703 : INFO : EPOCH 19: training on 769464 raw words (554421 effective words) took 0.9s, 650892 effective words/s\n",
      "2022-07-19 12:28:37,601 : INFO : EPOCH 20: training on 769464 raw words (554429 effective words) took 0.8s, 656444 effective words/s\n",
      "2022-07-19 12:28:38,444 : INFO : EPOCH 21: training on 769464 raw words (554633 effective words) took 0.8s, 674811 effective words/s\n",
      "2022-07-19 12:28:39,335 : INFO : EPOCH 22: training on 769464 raw words (554323 effective words) took 0.9s, 635519 effective words/s\n",
      "2022-07-19 12:28:40,208 : INFO : EPOCH 23: training on 769464 raw words (554052 effective words) took 0.8s, 655671 effective words/s\n",
      "2022-07-19 12:28:41,105 : INFO : EPOCH 24: training on 769464 raw words (554754 effective words) took 0.9s, 644638 effective words/s\n",
      "2022-07-19 12:28:42,030 : INFO : EPOCH 25: training on 769464 raw words (554507 effective words) took 0.9s, 619758 effective words/s\n",
      "2022-07-19 12:28:42,909 : INFO : EPOCH 26: training on 769464 raw words (554307 effective words) took 0.9s, 649877 effective words/s\n",
      "2022-07-19 12:28:43,804 : INFO : EPOCH 27: training on 769464 raw words (554390 effective words) took 0.9s, 630833 effective words/s\n",
      "2022-07-19 12:28:44,639 : INFO : EPOCH 28: training on 769464 raw words (553742 effective words) took 0.8s, 678375 effective words/s\n",
      "2022-07-19 12:28:45,429 : INFO : EPOCH 29: training on 769464 raw words (554437 effective words) took 0.8s, 716917 effective words/s\n",
      "2022-07-19 12:28:46,240 : INFO : EPOCH 30: training on 769464 raw words (554523 effective words) took 0.8s, 697812 effective words/s\n",
      "2022-07-19 12:28:47,133 : INFO : EPOCH 31: training on 769464 raw words (554434 effective words) took 0.9s, 643321 effective words/s\n",
      "2022-07-19 12:28:47,134 : INFO : Word2Vec lifecycle event {'msg': 'training on 24622848 raw words (17740703 effective words) took 28.3s, 627568 effective words/s', 'datetime': '2022-07-19T12:28:47.134275', 'gensim': '4.2.0', 'python': '3.10.2 (tags/v3.10.2:a58ebcc, Jan 17 2022, 14:12:15) [MSC v.1929 64 bit (AMD64)]', 'platform': 'Windows-10-10.0.22000-SP0', 'event': 'train'}\n"
     ]
    },
    {
     "name": "stdout",
     "output_type": "stream",
     "text": [
      "CPU times: total: 1min 25s\n",
      "Wall time: 28.3 s\n"
     ]
    },
    {
     "data": {
      "text/plain": [
       "(17740703, 24622848)"
      ]
     },
     "execution_count": 18,
     "metadata": {},
     "output_type": "execute_result"
    }
   ],
   "source": [
    "%%time\n",
    "w2v_model.train(documents, total_examples=len(documents), epochs=W2V_EPOCH)"
   ]
  },
  {
   "cell_type": "code",
   "execution_count": 19,
   "metadata": {
    "_uuid": "27cc2651c74227115d8bfd8c40e5618048e05edd",
    "scrolled": false
   },
   "outputs": [
    {
     "data": {
      "text/plain": [
       "[('mood', 0.5637619495391846),\n",
       " ('buruk', 0.551596462726593),\n",
       " ('perbaikin', 0.5274569392204285),\n",
       " ('bullshit', 0.5270180702209473),\n",
       " ('tahi', 0.5246917009353638),\n",
       " ('bagus', 0.5230584740638733),\n",
       " ('sumpah', 0.5106928944587708),\n",
       " ('bobrok', 0.510313868522644),\n",
       " ('sangat2', 0.5049912333488464),\n",
       " ('management', 0.49395498633384705)]"
      ]
     },
     "execution_count": 19,
     "metadata": {},
     "output_type": "execute_result"
    }
   ],
   "source": [
    "w2v_model.wv.most_similar(\"jelek\")"
   ]
  },
  {
   "cell_type": "markdown",
   "metadata": {
    "_uuid": "e13563644468037258598637b49373ca96b9b879"
   },
   "source": [
    "### Tokenize Text"
   ]
  },
  {
   "cell_type": "code",
   "execution_count": 20,
   "metadata": {
    "_uuid": "6852bc709a7cd20173cbeeb218505078f8f37c57"
   },
   "outputs": [
    {
     "name": "stdout",
     "output_type": "stream",
     "text": [
      "Total words 37725\n",
      "CPU times: total: 1.75 s\n",
      "Wall time: 1.8 s\n"
     ]
    }
   ],
   "source": [
    "%%time\n",
    "tokenizer = Tokenizer()\n",
    "tokenizer.fit_on_texts(df_train.text)\n",
    "\n",
    "vocab_size = len(tokenizer.word_index) + 1\n",
    "print(\"Total words\", vocab_size)"
   ]
  },
  {
   "cell_type": "code",
   "execution_count": 21,
   "metadata": {
    "_uuid": "45de439df3015030c71f84c2d170346936a1d68f"
   },
   "outputs": [
    {
     "name": "stdout",
     "output_type": "stream",
     "text": [
      "CPU times: total: 2 s\n",
      "Wall time: 2.01 s\n"
     ]
    }
   ],
   "source": [
    "%%time\n",
    "x_train = pad_sequences(tokenizer.texts_to_sequences(df_train.text), maxlen=SEQUENCE_LENGTH)\n",
    "x_test = pad_sequences(tokenizer.texts_to_sequences(df_test.text), maxlen=SEQUENCE_LENGTH)"
   ]
  },
  {
   "cell_type": "markdown",
   "metadata": {
    "_uuid": "03b35903fc6260e190d6928d240ef7432de117fc"
   },
   "source": [
    "### Label Encoder "
   ]
  },
  {
   "cell_type": "code",
   "execution_count": 22,
   "metadata": {
    "_uuid": "04239a9bef76e7922fd86098a5601dfde8ee4665"
   },
   "outputs": [
    {
     "name": "stdout",
     "output_type": "stream",
     "text": [
      "y_train (104456, 1)\n",
      "y_test (11607, 1)\n"
     ]
    }
   ],
   "source": [
    "encoder = LabelEncoder()\n",
    "encoder.fit(df_train.label.tolist())\n",
    "\n",
    "y_train = encoder.transform(df_train.label.tolist())\n",
    "y_test = encoder.transform(df_test.label.tolist())\n",
    "\n",
    "y_train = y_train.reshape(-1,1)\n",
    "y_test = y_test.reshape(-1,1)\n",
    "\n",
    "print(\"y_train\",y_train.shape)\n",
    "print(\"y_test\",y_test.shape)"
   ]
  },
  {
   "cell_type": "code",
   "execution_count": 23,
   "metadata": {
    "_uuid": "04299c886911ca135583ab64878f213939a2990c"
   },
   "outputs": [
    {
     "name": "stdout",
     "output_type": "stream",
     "text": [
      "x_train (104456, 300)\n",
      "y_train (104456, 1)\n",
      "\n",
      "x_test (11607, 300)\n",
      "y_test (11607, 1)\n"
     ]
    }
   ],
   "source": [
    "print(\"x_train\", x_train.shape)\n",
    "print(\"y_train\", y_train.shape)\n",
    "print()\n",
    "print(\"x_test\", x_test.shape)\n",
    "print(\"y_test\", y_test.shape)"
   ]
  },
  {
   "cell_type": "code",
   "execution_count": 24,
   "metadata": {
    "_uuid": "232533fb27b7be99d9b8c2f8fb22c9c6bf121a6f"
   },
   "outputs": [
    {
     "data": {
      "text/plain": [
       "array([[1],\n",
       "       [0],\n",
       "       [0],\n",
       "       [1],\n",
       "       [1],\n",
       "       [1],\n",
       "       [1],\n",
       "       [1],\n",
       "       [0],\n",
       "       [1]])"
      ]
     },
     "execution_count": 24,
     "metadata": {},
     "output_type": "execute_result"
    }
   ],
   "source": [
    "y_train[:10]"
   ]
  },
  {
   "cell_type": "markdown",
   "metadata": {
    "_uuid": "233c0ea94055a03e2e7df3e2a13d036ec963484f"
   },
   "source": [
    "### Embedding layer"
   ]
  },
  {
   "cell_type": "code",
   "execution_count": 25,
   "metadata": {
    "_uuid": "9ab488374b59e3f30f8b1ea92767d853c4846bac"
   },
   "outputs": [
    {
     "name": "stdout",
     "output_type": "stream",
     "text": [
      "(37725, 300)\n"
     ]
    }
   ],
   "source": [
    "embedding_matrix = np.zeros((vocab_size, W2V_SIZE))\n",
    "for word, i in tokenizer.word_index.items():\n",
    "  if word in w2v_model.wv:\n",
    "    embedding_matrix[i] = w2v_model.wv[word]\n",
    "print(embedding_matrix.shape)"
   ]
  },
  {
   "cell_type": "code",
   "execution_count": 26,
   "metadata": {
    "_uuid": "833279d91e4286065968237fb5f2a0c2dd4d246c"
   },
   "outputs": [],
   "source": [
    "embedding_layer = Embedding(vocab_size, W2V_SIZE, weights=[embedding_matrix], input_length=SEQUENCE_LENGTH, trainable=False)"
   ]
  },
  {
   "cell_type": "markdown",
   "metadata": {
    "_uuid": "b299ef78f94c2085942c993a2d58753a7476305a"
   },
   "source": [
    "### Build Model"
   ]
  },
  {
   "cell_type": "code",
   "execution_count": 31,
   "metadata": {
    "_uuid": "e775ef4f1b74e6412457181383c39f2df554ef3f"
   },
   "outputs": [
    {
     "name": "stdout",
     "output_type": "stream",
     "text": [
      "Model: \"sequential_1\"\n",
      "_________________________________________________________________\n",
      " Layer (type)                Output Shape              Param #   \n",
      "=================================================================\n",
      " embedding (Embedding)       (None, 300, 300)          11317500  \n",
      "                                                                 \n",
      " conv1d_2 (Conv1D)           (None, 300, 128)          153728    \n",
      "                                                                 \n",
      " max_pooling1d_2 (MaxPooling  (None, 150, 128)         0         \n",
      " 1D)                                                             \n",
      "                                                                 \n",
      " conv1d_3 (Conv1D)           (None, 150, 64)           32832     \n",
      "                                                                 \n",
      " max_pooling1d_3 (MaxPooling  (None, 75, 64)           0         \n",
      " 1D)                                                             \n",
      "                                                                 \n",
      " bidirectional_1 (Bidirectio  (None, 512)              657408    \n",
      " nal)                                                            \n",
      "                                                                 \n",
      " dropout_2 (Dropout)         (None, 512)               0         \n",
      "                                                                 \n",
      " dense_2 (Dense)             (None, 256)               131328    \n",
      "                                                                 \n",
      " dense_3 (Dense)             (None, 1)                 257       \n",
      "                                                                 \n",
      "=================================================================\n",
      "Total params: 12,293,053\n",
      "Trainable params: 975,553\n",
      "Non-trainable params: 11,317,500\n",
      "_________________________________________________________________\n"
     ]
    }
   ],
   "source": [
    "model = Sequential()\n",
    "model.add(embedding_layer)\n",
    "model.add(Conv1D(filters=128, kernel_size=4, padding='same', activation='relu'))\n",
    "model.add(MaxPooling1D(pool_size=2))\n",
    "model.add(Conv1D(filters=64, kernel_size=4, padding='same', activation='relu'))\n",
    "model.add(MaxPooling1D(pool_size=2))\n",
    "model.add(Bidirectional(LSTM(256, recurrent_dropout=0.3)))\n",
    "model.add(Dropout(0.3))\n",
    "model.add(Dense(256, activation='relu'))\n",
    "model.add(Dense(1, activation='sigmoid'))\n",
    "\n",
    "model.summary()"
   ]
  },
  {
   "cell_type": "markdown",
   "metadata": {
    "_uuid": "28d22eafd0c7d798dcf3d742bc92fb8577939e6c"
   },
   "source": [
    "### Compile model"
   ]
  },
  {
   "cell_type": "code",
   "execution_count": 32,
   "metadata": {
    "_uuid": "1331e08d590bb2aa2033706c8faca217afc0f1c3"
   },
   "outputs": [],
   "source": [
    "model.compile(loss='binary_crossentropy',\n",
    "              optimizer=\"adam\",\n",
    "              metrics=['accuracy'])"
   ]
  },
  {
   "cell_type": "markdown",
   "metadata": {
    "_uuid": "c7733127cb8b380e0c807268903bf4d03ef92542"
   },
   "source": [
    "### Callbacks"
   ]
  },
  {
   "cell_type": "code",
   "execution_count": 33,
   "metadata": {
    "_uuid": "a688df590386f5748da6fe00b01904fe6c71619e"
   },
   "outputs": [],
   "source": [
    "callbacks = [ReduceLROnPlateau(monitor='val_loss', patience=5, cooldown=0),\n",
    "             EarlyStopping(monitor='val_accuracy', min_delta=1e-4, patience=5)]"
   ]
  },
  {
   "cell_type": "markdown",
   "metadata": {
    "_uuid": "8d0873633dd49179c8cae17377641b97d323ef3b"
   },
   "source": [
    "### Train"
   ]
  },
  {
   "cell_type": "code",
   "execution_count": 34,
   "metadata": {
    "_uuid": "2b659d390c6577dc5cdb6b6297934279b4e801d5"
   },
   "outputs": [
    {
     "name": "stdout",
     "output_type": "stream",
     "text": [
      "Epoch 1/12\n",
      "92/92 [==============================] - 1371s 15s/step - loss: 0.3853 - accuracy: 0.8166 - val_loss: 0.3220 - val_accuracy: 0.8493 - lr: 0.0010\n",
      "Epoch 2/12\n",
      "92/92 [==============================] - 1354s 15s/step - loss: 0.3140 - accuracy: 0.8545 - val_loss: 0.3147 - val_accuracy: 0.8532 - lr: 0.0010\n",
      "Epoch 3/12\n",
      "92/92 [==============================] - 1404s 15s/step - loss: 0.2896 - accuracy: 0.8678 - val_loss: 0.3151 - val_accuracy: 0.8536 - lr: 0.0010\n",
      "Epoch 4/12\n",
      "92/92 [==============================] - 1357s 15s/step - loss: 0.2664 - accuracy: 0.8802 - val_loss: 0.3301 - val_accuracy: 0.8480 - lr: 0.0010\n",
      "Epoch 5/12\n",
      "92/92 [==============================] - 1344s 15s/step - loss: 0.2400 - accuracy: 0.8949 - val_loss: 0.3440 - val_accuracy: 0.8468 - lr: 0.0010\n",
      "Epoch 6/12\n",
      "92/92 [==============================] - 1360s 15s/step - loss: 0.2068 - accuracy: 0.9111 - val_loss: 0.3831 - val_accuracy: 0.8440 - lr: 0.0010\n",
      "Epoch 7/12\n",
      "92/92 [==============================] - 1356s 15s/step - loss: 0.1851 - accuracy: 0.9217 - val_loss: 0.3855 - val_accuracy: 0.8319 - lr: 0.0010\n",
      "Epoch 8/12\n",
      "92/92 [==============================] - 1354s 15s/step - loss: 0.1229 - accuracy: 0.9527 - val_loss: 0.4980 - val_accuracy: 0.8428 - lr: 1.0000e-04\n",
      "CPU times: total: 11h 7min 54s\n",
      "Wall time: 3h 1min 38s\n"
     ]
    }
   ],
   "source": [
    "%%time\n",
    "history = model.fit(x_train, y_train,\n",
    "                    batch_size=BATCH_SIZE,\n",
    "                    epochs=EPOCHS,\n",
    "                    validation_split=0.1,\n",
    "                    verbose=1,\n",
    "                    callbacks=callbacks)"
   ]
  },
  {
   "cell_type": "markdown",
   "metadata": {
    "_uuid": "267258196d96796ac69a7b8c466314bcf5d6ee42"
   },
   "source": [
    "### Evaluate"
   ]
  },
  {
   "cell_type": "code",
   "execution_count": 35,
   "metadata": {
    "_uuid": "98ecd8f1b8b74594c3ea775dd68a094e92458022"
   },
   "outputs": [
    {
     "name": "stdout",
     "output_type": "stream",
     "text": [
      "12/12 [==============================] - 45s 4s/step - loss: 0.5176 - accuracy: 0.8388\n",
      "\n",
      "ACCURACY: 0.8388041853904724\n",
      "LOSS: 0.5176463723182678\n",
      "CPU times: total: 2min 43s\n",
      "Wall time: 45 s\n"
     ]
    }
   ],
   "source": [
    "%%time\n",
    "score = model.evaluate(x_test, y_test, batch_size=BATCH_SIZE)\n",
    "print()\n",
    "print(\"ACCURACY:\",score[1])\n",
    "print(\"LOSS:\",score[0])"
   ]
  },
  {
   "cell_type": "code",
   "execution_count": 36,
   "metadata": {
    "_uuid": "40c72cd1e9d6c4fd799cbba7c813765ac4039dfc"
   },
   "outputs": [
    {
     "data": {
      "image/png": "[encoded data removed]",
      "text/plain": [
       "<Figure size 432x288 with 1 Axes>"
      ]
     },
     "metadata": {
      "needs_background": "light"
     },
     "output_type": "display_data"
    },
    {
     "data": {
      "image/png": "[encoded data removed]",
      "text/plain": [
       "<Figure size 432x288 with 1 Axes>"
      ]
     },
     "metadata": {
      "needs_background": "light"
     },
     "output_type": "display_data"
    }
   ],
   "source": [
    "acc = history.history['accuracy']\n",
    "val_acc = history.history['val_accuracy']\n",
    "loss = history.history['loss']\n",
    "val_loss = history.history['val_loss']\n",
    " \n",
    "epochs = range(len(acc))\n",
    " \n",
    "plt.plot(epochs, acc, 'b', label='Training acc')\n",
    "plt.plot(epochs, val_acc, 'r', label='Validation acc')\n",
    "plt.title('Training and validation accuracy')\n",
    "plt.legend()\n",
    " \n",
    "plt.figure()\n",
    " \n",
    "plt.plot(epochs, loss, 'b', label='Training loss')\n",
    "plt.plot(epochs, val_loss, 'r', label='Validation loss')\n",
    "plt.title('Training and validation loss')\n",
    "plt.legend()\n",
    " \n",
    "plt.show()"
   ]
  },
  {
   "cell_type": "markdown",
   "metadata": {
    "_uuid": "3ee72e47f84b6dbc32e02a783de5ec1661f157e1"
   },
   "source": [
    "### Confusion Matrix"
   ]
  },
  {
   "cell_type": "code",
   "execution_count": 37,
   "metadata": {},
   "outputs": [],
   "source": [
    "import seaborn as sns\n",
    "\n",
    "def ConfusionMatrix(y_pred, y_test):\n",
    "    # Compute and plot the Confusion matrix\n",
    "    cf_matrix = confusion_matrix(y_test, y_pred)\n",
    "\n",
    "    categories  = ['Negative','Positive']\n",
    "    group_names = ['True Neg','False Pos', 'False Neg','True Pos']\n",
    "    group_percentages = ['{0:.2%}'.format(value) for value in cf_matrix.flatten() / np.sum(cf_matrix)]\n",
    "\n",
    "    labels = [f'{v1}\\n{v2}' for v1, v2 in zip(group_names,group_percentages)]\n",
    "    labels = np.asarray(labels).reshape(2,2)\n",
    "\n",
    "    sns.heatmap(cf_matrix, annot = labels, cmap = 'Blues',fmt = '',\n",
    "                xticklabels = categories, yticklabels = categories)\n",
    "\n",
    "    plt.xlabel(\"Predicted values\", fontdict = {'size':14}, labelpad = 10)\n",
    "    plt.ylabel(\"Actual values\"   , fontdict = {'size':14}, labelpad = 10)\n",
    "    plt.title (\"Confusion Matrix\", fontdict = {'size':18}, pad = 20)"
   ]
  },
  {
   "cell_type": "code",
   "execution_count": 38,
   "metadata": {},
   "outputs": [
    {
     "name": "stdout",
     "output_type": "stream",
     "text": [
      "363/363 [==============================] - 79s 215ms/step\n"
     ]
    },
    {
     "data": {
      "image/png": "[encoded data removed]",
      "text/plain": [
       "<Figure size 432x288 with 2 Axes>"
      ]
     },
     "metadata": {
      "needs_background": "light"
     },
     "output_type": "display_data"
    }
   ],
   "source": [
    "# Predicting on the Test dataset.\n",
    "y_pred = model.predict(x_test)\n",
    "\n",
    "# Converting prediction to reflect the sentiment predicted.\n",
    "y_pred = np.where(y_pred>=0.5, 1, 0)\n",
    "\n",
    "# Printing out the Evaluation metrics. \n",
    "ConfusionMatrix(y_pred, y_test)"
   ]
  },
  {
   "cell_type": "markdown",
   "metadata": {
    "_uuid": "e23b957348dcc084249d3cc7538b972da471c2cd"
   },
   "source": [
    "### Classification Report"
   ]
  },
  {
   "cell_type": "code",
   "execution_count": 39,
   "metadata": {},
   "outputs": [
    {
     "name": "stdout",
     "output_type": "stream",
     "text": [
      "              precision    recall  f1-score   support\n",
      "\n",
      "           0     0.7009    0.6693    0.6848      3036\n",
      "           1     0.8847    0.8988    0.8917      8571\n",
      "\n",
      "    accuracy                         0.8388     11607\n",
      "   macro avg     0.7928    0.7841    0.7882     11607\n",
      "weighted avg     0.8366    0.8388    0.8376     11607\n",
      "\n"
     ]
    }
   ],
   "source": [
    "# Print the evaluation metrics for the dataset.\n",
    "print(classification_report(y_test, y_pred, digits=4))"
   ]
  },
  {
   "cell_type": "markdown",
   "metadata": {
    "_uuid": "4eb300f0c6693a618587c7dcf32f77f5416cbfb9"
   },
   "source": [
    "### Accuracy Score"
   ]
  },
  {
   "cell_type": "code",
   "execution_count": 40,
   "metadata": {
    "_uuid": "5cf76e6e09f8a60ed25947932b94c772eda44d23"
   },
   "outputs": [
    {
     "data": {
      "text/plain": [
       "0.8388041698974756"
      ]
     },
     "execution_count": 40,
     "metadata": {},
     "output_type": "execute_result"
    }
   ],
   "source": [
    "accuracy_score(y_test, y_pred)"
   ]
  },
  {
   "cell_type": "markdown",
   "metadata": {
    "_uuid": "4f014c32f3833db282e1a075c526604f34e3158c"
   },
   "source": [
    "### Save model"
   ]
  },
  {
   "cell_type": "code",
   "execution_count": null,
   "metadata": {
    "_uuid": "3b2b3ad5b592977b404acfa1c9ad303a62837255"
   },
   "outputs": [],
   "source": [
    "model.save(KERAS_MODEL)\n",
    "w2v_model.save(WORD2VEC_MODEL)\n",
    "pickle.dump(tokenizer, open(TOKENIZER_MODEL, \"wb\"), protocol=0)\n",
    "pickle.dump(encoder, open(ENCODER_MODEL, \"wb\"), protocol=0)"
   ]
  },
  {
   "cell_type": "code",
   "execution_count": null,
   "metadata": {
    "_uuid": "cc363c54782894757f5ea8820c6a170f2e16ef93"
   },
   "outputs": [],
   "source": []
  }
 ],
 "metadata": {
  "kernelspec": {
   "display_name": "Python 3 (ipykernel)",
   "language": "python",
   "name": "python3"
  },
  "language_info": {
   "codemirror_mode": {
    "name": "ipython",
    "version": 3
   },
   "file_extension": ".py",
   "mimetype": "text/x-python",
   "name": "python",
   "nbconvert_exporter": "python",
   "pygments_lexer": "ipython3",
   "version": "3.10.2"
  }
 },
 "nbformat": 4,
 "nbformat_minor": 1
}
