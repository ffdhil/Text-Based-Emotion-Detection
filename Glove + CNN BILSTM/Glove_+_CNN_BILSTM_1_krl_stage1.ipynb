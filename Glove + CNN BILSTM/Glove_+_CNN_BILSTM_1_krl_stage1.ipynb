{
  "cells": [
    {
      "cell_type": "code",
      "source": [
        "pip install Sastrawi"
      ],
      "metadata": {
        "colab": {
          "base_uri": "https://localhost:8080/"
        },
        "id": "h1dqU2A1QXOR",
        "outputId": "7a32a0b5-2a11-4605-bb82-b8626cfcad0e"
      },
      "execution_count": 1,
      "outputs": [
        {
          "output_type": "stream",
          "name": "stdout",
          "text": [
            "Looking in indexes: https://pypi.org/simple, https://us-python.pkg.dev/colab-wheels/public/simple/\n",
            "Collecting Sastrawi\n",
            "  Downloading Sastrawi-1.0.1-py2.py3-none-any.whl (209 kB)\n",
            "\u001b[K     |████████████████████████████████| 209 kB 24.7 MB/s \n",
            "\u001b[?25hInstalling collected packages: Sastrawi\n",
            "Successfully installed Sastrawi-1.0.1\n"
          ]
        }
      ]
    },
    {
      "cell_type": "code",
      "execution_count": 2,
      "metadata": {
        "_uuid": "303e72966af732ddef0bd8108a321095314e44af",
        "scrolled": true,
        "id": "GtXEGqFN2mX8"
      },
      "outputs": [],
      "source": [
        "import numpy as np \n",
        "import pandas as pd \n",
        "import nltk\n",
        "import os\n",
        "import gc\n",
        "import re\n",
        "import tensorflow\n",
        "from tensorflow import keras\n",
        "from nltk.tokenize import word_tokenize\n",
        "from nltk.corpus import stopwords\n",
        "from nltk import FreqDist\n",
        "from keras.preprocessing import text\n",
        "from keras_preprocessing.sequence import pad_sequences\n",
        "from keras.preprocessing.text import Tokenizer\n",
        "from keras.models import Sequential\n",
        "from keras.layers import Dense,Dropout,Embedding,Conv1D,GlobalMaxPooling1D,Flatten,MaxPooling1D\n",
        "from keras.callbacks import ReduceLROnPlateau, EarlyStopping\n",
        "from tensorflow.keras.utils import to_categorical\n",
        "from tensorflow.keras.optimizers import Adam\n",
        "from sklearn.model_selection import train_test_split\n",
        "from sklearn.preprocessing import LabelEncoder\n",
        "from sklearn.metrics import accuracy_score,confusion_matrix,classification_report,f1_score\n",
        "import matplotlib.pyplot as plt\n",
        "import warnings\n",
        "warnings.filterwarnings(\"ignore\")\n",
        "from collections import Counter\n",
        "#pd.set_option('display.max_colwidth',100)\n",
        "pd.set_option('display.max_colwidth', -1)\n",
        "#sastrawi\n",
        "from Sastrawi.Stemmer.StemmerFactory import StemmerFactory"
      ]
    },
    {
      "cell_type": "markdown",
      "metadata": {
        "_uuid": "e8b01a07df001e4abcc745900336c4db06e455f3",
        "id": "ysbbBrVW2mYC"
      },
      "source": [
        "### Settings"
      ]
    },
    {
      "cell_type": "code",
      "execution_count": 3,
      "metadata": {
        "_uuid": "180f0dd2a95419e4602b5c0229822b0111c826f6",
        "id": "y2XuZbND2mYE"
      },
      "outputs": [],
      "source": [
        "# DATASET\n",
        "DATASET_COLUMNS = [\"user\", \"time\", \"text\", \"label\"]\n",
        "DATASET_ENCODING = \"ISO-8859-1\"\n",
        "TRAIN_SIZE = 0.9"
      ]
    },
    {
      "cell_type": "markdown",
      "metadata": {
        "_uuid": "1c3beecc618be68480b3d4f0de08d9d863da1dc1",
        "id": "jW4ydwtZ2mYF"
      },
      "source": [
        "### Read Dataset"
      ]
    },
    {
      "cell_type": "code",
      "source": [
        "from google.colab import drive\n",
        "\n",
        "drive.mount('/content/gdrive')"
      ],
      "metadata": {
        "colab": {
          "base_uri": "https://localhost:8080/"
        },
        "id": "Q26bAz7kRaDP",
        "outputId": "b560d3d6-8bf0-4470-f2fa-5e5068f34dc4"
      },
      "execution_count": 4,
      "outputs": [
        {
          "output_type": "stream",
          "name": "stdout",
          "text": [
            "Mounted at /content/gdrive\n"
          ]
        }
      ]
    },
    {
      "cell_type": "code",
      "source": [
        "df = pd.read_csv('/content/gdrive/My Drive/data/1_krl-stage1.csv', \n",
        "                 encoding='ISO-8859-1', \n",
        "                 names=[ 'akun','date','text','label'\n",
        "                        ])"
      ],
      "metadata": {
        "id": "nJ2I2M88Ra0t"
      },
      "execution_count": 5,
      "outputs": []
    },
    {
      "cell_type": "code",
      "source": [
        "df.head()"
      ],
      "metadata": {
        "colab": {
          "base_uri": "https://localhost:8080/",
          "height": 206
        },
        "id": "FU7_GEo2RdQX",
        "outputId": "94c52662-5b84-4a70-cc72-dcd515fea07d"
      },
      "execution_count": 6,
      "outputs": [
        {
          "output_type": "execute_result",
          "data": {
            "text/plain": [
              "          akun           date  \\\n",
              "0  antoe_21     1/1/2017 7:00   \n",
              "1  antoe_21     1/1/2017 7:04   \n",
              "2  antoe_21     1/1/2017 7:06   \n",
              "3  tabitaindah  1/1/2017 7:10   \n",
              "4  tabitaindah  1/1/2017 7:12   \n",
              "\n",
              "                                                                                           text  \\\n",
              "0  maaf mau tanya kenapaa krl nambo depok berangkat jam 635 dibatalin yah                         \n",
              "1  brarti ada berangkat jam brapa                                                                 \n",
              "2  untuk di tiada hanya hari  berangkat jam 645 tsb                                               \n",
              "3  maaf tidak tahu nomor pokok tadi jakarta kota arah bogor berangkat sekitar jam 6               \n",
              "4  tp tadi jelang berangkat sudah tugas usir2 pindah penumpang laki2 gerbong dan cukup keras jg   \n",
              "\n",
              "   label  \n",
              "0  0      \n",
              "1  0      \n",
              "2  0      \n",
              "3  0      \n",
              "4  0      "
            ],
            "text/html": [
              "\n",
              "  <div id=\"df-dbf1e15a-ec41-4804-bd5c-f42c5e331f32\">\n",
              "    <div class=\"colab-df-container\">\n",
              "      <div>\n",
              "<style scoped>\n",
              "    .dataframe tbody tr th:only-of-type {\n",
              "        vertical-align: middle;\n",
              "    }\n",
              "\n",
              "    .dataframe tbody tr th {\n",
              "        vertical-align: top;\n",
              "    }\n",
              "\n",
              "    .dataframe thead th {\n",
              "        text-align: right;\n",
              "    }\n",
              "</style>\n",
              "<table border=\"1\" class=\"dataframe\">\n",
              "  <thead>\n",
              "    <tr style=\"text-align: right;\">\n",
              "      <th></th>\n",
              "      <th>akun</th>\n",
              "      <th>date</th>\n",
              "      <th>text</th>\n",
              "      <th>label</th>\n",
              "    </tr>\n",
              "  </thead>\n",
              "  <tbody>\n",
              "    <tr>\n",
              "      <th>0</th>\n",
              "      <td>antoe_21</td>\n",
              "      <td>1/1/2017 7:00</td>\n",
              "      <td>maaf mau tanya kenapaa krl nambo depok berangkat jam 635 dibatalin yah</td>\n",
              "      <td>0</td>\n",
              "    </tr>\n",
              "    <tr>\n",
              "      <th>1</th>\n",
              "      <td>antoe_21</td>\n",
              "      <td>1/1/2017 7:04</td>\n",
              "      <td>brarti ada berangkat jam brapa</td>\n",
              "      <td>0</td>\n",
              "    </tr>\n",
              "    <tr>\n",
              "      <th>2</th>\n",
              "      <td>antoe_21</td>\n",
              "      <td>1/1/2017 7:06</td>\n",
              "      <td>untuk di tiada hanya hari  berangkat jam 645 tsb</td>\n",
              "      <td>0</td>\n",
              "    </tr>\n",
              "    <tr>\n",
              "      <th>3</th>\n",
              "      <td>tabitaindah</td>\n",
              "      <td>1/1/2017 7:10</td>\n",
              "      <td>maaf tidak tahu nomor pokok tadi jakarta kota arah bogor berangkat sekitar jam 6</td>\n",
              "      <td>0</td>\n",
              "    </tr>\n",
              "    <tr>\n",
              "      <th>4</th>\n",
              "      <td>tabitaindah</td>\n",
              "      <td>1/1/2017 7:12</td>\n",
              "      <td>tp tadi jelang berangkat sudah tugas usir2 pindah penumpang laki2 gerbong dan cukup keras jg</td>\n",
              "      <td>0</td>\n",
              "    </tr>\n",
              "  </tbody>\n",
              "</table>\n",
              "</div>\n",
              "      <button class=\"colab-df-convert\" onclick=\"convertToInteractive('df-dbf1e15a-ec41-4804-bd5c-f42c5e331f32')\"\n",
              "              title=\"Convert this dataframe to an interactive table.\"\n",
              "              style=\"display:none;\">\n",
              "        \n",
              "  <svg xmlns=\"http://www.w3.org/2000/svg\" height=\"24px\"viewBox=\"0 0 24 24\"\n",
              "       width=\"24px\">\n",
              "    <path d=\"M0 0h24v24H0V0z\" fill=\"none\"/>\n",
              "    <path d=\"M18.56 5.44l.94 2.06.94-2.06 2.06-.94-2.06-.94-.94-2.06-.94 2.06-2.06.94zm-11 1L8.5 8.5l.94-2.06 2.06-.94-2.06-.94L8.5 2.5l-.94 2.06-2.06.94zm10 10l.94 2.06.94-2.06 2.06-.94-2.06-.94-.94-2.06-.94 2.06-2.06.94z\"/><path d=\"M17.41 7.96l-1.37-1.37c-.4-.4-.92-.59-1.43-.59-.52 0-1.04.2-1.43.59L10.3 9.45l-7.72 7.72c-.78.78-.78 2.05 0 2.83L4 21.41c.39.39.9.59 1.41.59.51 0 1.02-.2 1.41-.59l7.78-7.78 2.81-2.81c.8-.78.8-2.07 0-2.86zM5.41 20L4 18.59l7.72-7.72 1.47 1.35L5.41 20z\"/>\n",
              "  </svg>\n",
              "      </button>\n",
              "      \n",
              "  <style>\n",
              "    .colab-df-container {\n",
              "      display:flex;\n",
              "      flex-wrap:wrap;\n",
              "      gap: 12px;\n",
              "    }\n",
              "\n",
              "    .colab-df-convert {\n",
              "      background-color: #E8F0FE;\n",
              "      border: none;\n",
              "      border-radius: 50%;\n",
              "      cursor: pointer;\n",
              "      display: none;\n",
              "      fill: #1967D2;\n",
              "      height: 32px;\n",
              "      padding: 0 0 0 0;\n",
              "      width: 32px;\n",
              "    }\n",
              "\n",
              "    .colab-df-convert:hover {\n",
              "      background-color: #E2EBFA;\n",
              "      box-shadow: 0px 1px 2px rgba(60, 64, 67, 0.3), 0px 1px 3px 1px rgba(60, 64, 67, 0.15);\n",
              "      fill: #174EA6;\n",
              "    }\n",
              "\n",
              "    [theme=dark] .colab-df-convert {\n",
              "      background-color: #3B4455;\n",
              "      fill: #D2E3FC;\n",
              "    }\n",
              "\n",
              "    [theme=dark] .colab-df-convert:hover {\n",
              "      background-color: #434B5C;\n",
              "      box-shadow: 0px 1px 3px 1px rgba(0, 0, 0, 0.15);\n",
              "      filter: drop-shadow(0px 1px 2px rgba(0, 0, 0, 0.3));\n",
              "      fill: #FFFFFF;\n",
              "    }\n",
              "  </style>\n",
              "\n",
              "      <script>\n",
              "        const buttonEl =\n",
              "          document.querySelector('#df-dbf1e15a-ec41-4804-bd5c-f42c5e331f32 button.colab-df-convert');\n",
              "        buttonEl.style.display =\n",
              "          google.colab.kernel.accessAllowed ? 'block' : 'none';\n",
              "\n",
              "        async function convertToInteractive(key) {\n",
              "          const element = document.querySelector('#df-dbf1e15a-ec41-4804-bd5c-f42c5e331f32');\n",
              "          const dataTable =\n",
              "            await google.colab.kernel.invokeFunction('convertToInteractive',\n",
              "                                                     [key], {});\n",
              "          if (!dataTable) return;\n",
              "\n",
              "          const docLinkHtml = 'Like what you see? Visit the ' +\n",
              "            '<a target=\"_blank\" href=https://colab.research.google.com/notebooks/data_table.ipynb>data table notebook</a>'\n",
              "            + ' to learn more about interactive tables.';\n",
              "          element.innerHTML = '';\n",
              "          dataTable['output_type'] = 'display_data';\n",
              "          await google.colab.output.renderOutput(dataTable, element);\n",
              "          const docLink = document.createElement('div');\n",
              "          docLink.innerHTML = docLinkHtml;\n",
              "          element.appendChild(docLink);\n",
              "        }\n",
              "      </script>\n",
              "    </div>\n",
              "  </div>\n",
              "  "
            ]
          },
          "metadata": {},
          "execution_count": 6
        }
      ]
    },
    {
      "cell_type": "code",
      "source": [
        "df['text'] = df['text'].astype(str)"
      ],
      "metadata": {
        "id": "fSO2mTL6Rjy5"
      },
      "execution_count": 7,
      "outputs": []
    },
    {
      "cell_type": "code",
      "execution_count": 8,
      "metadata": {
        "_uuid": "14074b59106cb9550440839e48b832223fc9502f",
        "id": "eG6eRJg92mYH"
      },
      "outputs": [],
      "source": [
        "encoder = LabelEncoder()\n",
        "df['labelEncoded'] = encoder.fit_transform(df['label'])"
      ]
    },
    {
      "cell_type": "code",
      "execution_count": 9,
      "metadata": {
        "id": "4SOwJszS2mYI"
      },
      "outputs": [],
      "source": [
        "df.label = df['labelEncoded']"
      ]
    },
    {
      "cell_type": "code",
      "execution_count": 10,
      "metadata": {
        "_uuid": "19eb327803192f31cce3512aacb232f4d6b38715",
        "scrolled": false,
        "id": "DbVDoMCj2mYJ",
        "outputId": "d0ffaa71-a162-4b78-e493-9e8c4077fbba",
        "colab": {
          "base_uri": "https://localhost:8080/",
          "height": 516
        }
      },
      "outputs": [
        {
          "output_type": "execute_result",
          "data": {
            "text/plain": [
              "Text(0.5, 1.0, 'Dataset labels distribuition')"
            ]
          },
          "metadata": {},
          "execution_count": 10
        },
        {
          "output_type": "display_data",
          "data": {
            "text/plain": [
              "<Figure size 1152x576 with 1 Axes>"
            ],
            "image/png": "[encoded data removed]"
          },
          "metadata": {
            "needs_background": "light"
          }
        }
      ],
      "source": [
        "label_cnt = Counter(df.label)\n",
        "\n",
        "plt.figure(figsize=(16,8))\n",
        "plt.bar(label_cnt.keys(), label_cnt.values())\n",
        "plt.title(\"Dataset labels distribuition\")"
      ]
    },
    {
      "cell_type": "markdown",
      "metadata": {
        "_uuid": "4329b1573518b03e497213efa7676220734ebb4b",
        "id": "zHv_qt6E2mYJ"
      },
      "source": [
        "### Pre-Process dataset"
      ]
    },
    {
      "cell_type": "code",
      "source": [
        "import nltk\n",
        "nltk.download('stopwords')\n",
        "from nltk.corpus import stopwords"
      ],
      "metadata": {
        "colab": {
          "base_uri": "https://localhost:8080/"
        },
        "id": "JC0q1rFMToeD",
        "outputId": "98668a43-fbb7-4583-fec9-46a520c78d26"
      },
      "execution_count": 11,
      "outputs": [
        {
          "output_type": "stream",
          "name": "stderr",
          "text": [
            "[nltk_data] Downloading package stopwords to /root/nltk_data...\n",
            "[nltk_data]   Unzipping corpora/stopwords.zip.\n"
          ]
        }
      ]
    },
    {
      "cell_type": "code",
      "execution_count": 12,
      "metadata": {
        "_uuid": "8aeee8b7b9ea11b749c7f91cd4787a7b50ed1a91",
        "id": "P40repJA2mYK"
      },
      "outputs": [],
      "source": [
        "stop_words = stopwords.words(\"indonesian\")\n",
        "factory = StemmerFactory()\n",
        "stemmer = factory.create_stemmer()"
      ]
    },
    {
      "cell_type": "code",
      "execution_count": 13,
      "metadata": {
        "_uuid": "649ebcb97969b9ac4301138783704bb3d7846a49",
        "id": "mNAqpcgr2mYK"
      },
      "outputs": [],
      "source": [
        "TEXT_CLEANING_RE = \"@\\S+|https?:\\S+|http?:\\S|[^A-Za-z0-9]+\"\n",
        "def preprocess(text, stem=False):\n",
        "    # Remove link,user and special characters\n",
        "    text = re.sub(TEXT_CLEANING_RE, ' ', str(text).lower()).strip()\n",
        "    tokens = []\n",
        "    for token in text.split():\n",
        "        if token not in stop_words:\n",
        "            if stem:\n",
        "                tokens.append(stemmer.stem(token))\n",
        "            else:\n",
        "                tokens.append(token)\n",
        "    return \" \".join(tokens)"
      ]
    },
    {
      "cell_type": "code",
      "execution_count": 14,
      "metadata": {
        "_uuid": "f7f3e77ab9291d14687c49e71ba9b2b1e3323432",
        "id": "3h6yWhJn2mYL",
        "outputId": "63299565-0d56-4f32-d71c-8c0269600ee4",
        "colab": {
          "base_uri": "https://localhost:8080/"
        }
      },
      "outputs": [
        {
          "output_type": "stream",
          "name": "stdout",
          "text": [
            "CPU times: user 8.73 s, sys: 4.23 ms, total: 8.73 s\n",
            "Wall time: 8.77 s\n"
          ]
        }
      ],
      "source": [
        "%%time\n",
        "df.text = df.text.apply(lambda x: preprocess(x))"
      ]
    },
    {
      "cell_type": "markdown",
      "metadata": {
        "_uuid": "f5f9714a8507409bbe780eebf2855a33e8e6ba37",
        "id": "YOukyKhK2mYM"
      },
      "source": [
        "### Split train and test"
      ]
    },
    {
      "cell_type": "code",
      "execution_count": 15,
      "metadata": {
        "_uuid": "d2b1179c968e3f3910c790ecf0c5b2cbb34b0e68",
        "id": "cn9j4Txk2mYM",
        "outputId": "28df612a-ddec-4a01-89e4-45b80ac7e843",
        "colab": {
          "base_uri": "https://localhost:8080/"
        }
      },
      "outputs": [
        {
          "output_type": "stream",
          "name": "stdout",
          "text": [
            "TRAIN size: 70443\n",
            "TEST size: 7827\n"
          ]
        }
      ],
      "source": [
        "df_train, df_test = train_test_split(df, test_size=1-TRAIN_SIZE, random_state=0)\n",
        "print(\"TRAIN size:\", len(df_train))\n",
        "print(\"TEST size:\", len(df_test))"
      ]
    },
    {
      "cell_type": "markdown",
      "metadata": {
        "_uuid": "e13563644468037258598637b49373ca96b9b879",
        "id": "rybEay942mYT"
      },
      "source": [
        "### Tokenizer"
      ]
    },
    {
      "cell_type": "code",
      "source": [
        "import nltk\n",
        "nltk.download('punkt')"
      ],
      "metadata": {
        "colab": {
          "base_uri": "https://localhost:8080/"
        },
        "id": "6utMWUn4UC6v",
        "outputId": "fd13857e-3df0-4d74-9fbb-17065b730716"
      },
      "execution_count": 16,
      "outputs": [
        {
          "output_type": "stream",
          "name": "stderr",
          "text": [
            "[nltk_data] Downloading package punkt to /root/nltk_data...\n",
            "[nltk_data]   Unzipping tokenizers/punkt.zip.\n"
          ]
        },
        {
          "output_type": "execute_result",
          "data": {
            "text/plain": [
              "True"
            ]
          },
          "metadata": {},
          "execution_count": 16
        }
      ]
    },
    {
      "cell_type": "code",
      "execution_count": 17,
      "metadata": {
        "_uuid": "6852bc709a7cd20173cbeeb218505078f8f37c57",
        "id": "GzsbsZsj2mYU",
        "outputId": "9006e194-86be-4095-cbdf-3b0f2e4d7568",
        "colab": {
          "base_uri": "https://localhost:8080/"
        }
      },
      "outputs": [
        {
          "output_type": "execute_result",
          "data": {
            "text/plain": [
              "27058"
            ]
          },
          "metadata": {},
          "execution_count": 17
        }
      ],
      "source": [
        "all_words=' '.join(df_train.text)\n",
        "all_words=word_tokenize(all_words)\n",
        "dist=FreqDist(all_words)\n",
        "num_unique_word=len(dist)\n",
        "num_unique_word"
      ]
    },
    {
      "cell_type": "code",
      "execution_count": 18,
      "metadata": {
        "_uuid": "45de439df3015030c71f84c2d170346936a1d68f",
        "id": "mhXNzTQf2mYU",
        "outputId": "f4101498-49e9-4bdd-c45b-9121807b2e68",
        "colab": {
          "base_uri": "https://localhost:8080/"
        }
      },
      "outputs": [
        {
          "output_type": "execute_result",
          "data": {
            "text/plain": [
              "36"
            ]
          },
          "metadata": {},
          "execution_count": 18
        }
      ],
      "source": [
        "r_len=[]\n",
        "for text in df_train.text:\n",
        "    word=word_tokenize(text)\n",
        "    l=len(word)\n",
        "    r_len.append(l)\n",
        "    \n",
        "MAX_REVIEW_LEN=np.max(r_len)\n",
        "MAX_REVIEW_LEN"
      ]
    },
    {
      "cell_type": "code",
      "source": [
        "max_features = num_unique_word\n",
        "max_words = MAX_REVIEW_LEN\n",
        "batch_size = 1024\n",
        "epochs = 12\n",
        "num_classes=5"
      ],
      "metadata": {
        "id": "ymmJoOpR7Uwu"
      },
      "execution_count": 19,
      "outputs": []
    },
    {
      "cell_type": "code",
      "source": [
        "tokenizer = Tokenizer(num_words=max_features)\n",
        "tokenizer.fit_on_texts(list(df_train.text))"
      ],
      "metadata": {
        "id": "Kl1RKTun7Vhq"
      },
      "execution_count": 20,
      "outputs": []
    },
    {
      "cell_type": "code",
      "source": [
        "%%time\n",
        "x_train = pad_sequences(tokenizer.texts_to_sequences(df_train.text), maxlen=max_words)\n",
        "x_test = pad_sequences(tokenizer.texts_to_sequences(df_test.text), maxlen=max_words)\n",
        "print(x_train.shape,x_test.shape)"
      ],
      "metadata": {
        "id": "JOqWeC4H7Yib",
        "colab": {
          "base_uri": "https://localhost:8080/"
        },
        "outputId": "469dc218-c67c-4f51-93cb-d894d25d433a"
      },
      "execution_count": 21,
      "outputs": [
        {
          "output_type": "stream",
          "name": "stdout",
          "text": [
            "(70443, 36) (7827, 36)\n",
            "CPU times: user 1.42 s, sys: 22.8 ms, total: 1.44 s\n",
            "Wall time: 1.44 s\n"
          ]
        }
      ]
    },
    {
      "cell_type": "code",
      "source": [
        "encoder = LabelEncoder()\n",
        "encoder.fit(df_train.label.tolist())\n",
        "\n",
        "y_train = encoder.transform(df_train.label.tolist())\n",
        "y_test = encoder.transform(df_test.label.tolist())\n",
        "\n",
        "y_train = y_train.reshape(-1,1)\n",
        "y_test = y_test.reshape(-1,1)\n",
        "\n",
        "print(\"y_train\",y_train.shape)\n",
        "print(\"y_test\",y_test.shape)"
      ],
      "metadata": {
        "id": "c8F7xpYR7bcr",
        "colab": {
          "base_uri": "https://localhost:8080/"
        },
        "outputId": "f97a0e99-9ef9-410c-f1d1-b4324160ba4c"
      },
      "execution_count": 22,
      "outputs": [
        {
          "output_type": "stream",
          "name": "stdout",
          "text": [
            "y_train (70443, 1)\n",
            "y_test (7827, 1)\n"
          ]
        }
      ]
    },
    {
      "cell_type": "code",
      "source": [
        "print(\"x_train\", x_train.shape)\n",
        "print(\"y_train\", y_train.shape)\n",
        "print()\n",
        "print(\"x_test\", x_test.shape)\n",
        "print(\"y_test\", y_test.shape)"
      ],
      "metadata": {
        "id": "wxzAwm2F7fQV",
        "colab": {
          "base_uri": "https://localhost:8080/"
        },
        "outputId": "6d3b32d5-c49c-4dce-9043-6b46946a3fe5"
      },
      "execution_count": 23,
      "outputs": [
        {
          "output_type": "stream",
          "name": "stdout",
          "text": [
            "x_train (70443, 36)\n",
            "y_train (70443, 1)\n",
            "\n",
            "x_test (7827, 36)\n",
            "y_test (7827, 1)\n"
          ]
        }
      ]
    },
    {
      "cell_type": "code",
      "source": [
        "y_train[:10]"
      ],
      "metadata": {
        "id": "wsI-MlRn7iMW",
        "colab": {
          "base_uri": "https://localhost:8080/"
        },
        "outputId": "a2822348-7507-4252-9084-23803f07b48e"
      },
      "execution_count": 24,
      "outputs": [
        {
          "output_type": "execute_result",
          "data": {
            "text/plain": [
              "array([[0],\n",
              "       [0],\n",
              "       [1],\n",
              "       [0],\n",
              "       [1],\n",
              "       [1],\n",
              "       [1],\n",
              "       [0],\n",
              "       [1],\n",
              "       [0]])"
            ]
          },
          "metadata": {},
          "execution_count": 24
        }
      ]
    },
    {
      "cell_type": "markdown",
      "metadata": {
        "_uuid": "03b35903fc6260e190d6928d240ef7432de117fc",
        "id": "YfS37GOT2mYW"
      },
      "source": [
        "### Glove"
      ]
    },
    {
      "cell_type": "code",
      "execution_count": 25,
      "metadata": {
        "_uuid": "04239a9bef76e7922fd86098a5601dfde8ee4665",
        "id": "E4lR15Rr2mYW"
      },
      "outputs": [],
      "source": [
        "def get_coefs(word, *arr):\n",
        "    return word, np.asarray(arr, dtype='float32')\n",
        "    \n",
        "def get_embed_mat(EMBEDDING_FILE, max_features,embed_dim):\n",
        "    # word vectors\n",
        "    embeddings_index = dict(get_coefs(*o.rstrip().rsplit(' ')) for o in open(EMBEDDING_FILE, encoding='utf8'))\n",
        "    print('Found %s word vectors.' % len(embeddings_index))\n",
        "\n",
        "    # embedding matrix\n",
        "    word_index = tokenizer.word_index\n",
        "    num_words = min(max_features, len(word_index) + 1)\n",
        "    all_embs = np.stack(embeddings_index.values()) #for random init\n",
        "    embedding_matrix = np.random.normal(all_embs.mean(), all_embs.std(), \n",
        "                                        (num_words, embed_dim))\n",
        "    for word, i in word_index.items():\n",
        "        if i >= max_features:\n",
        "            continue\n",
        "        embedding_vector = embeddings_index.get(word)\n",
        "        if embedding_vector is not None:\n",
        "            embedding_matrix[i] = embedding_vector\n",
        "    max_features = embedding_matrix.shape[0]\n",
        "    \n",
        "    return embedding_matrix"
      ]
    },
    {
      "cell_type": "code",
      "source": [
        "from google.colab import drive\n",
        "\n",
        "drive.mount('/content/gdrive')"
      ],
      "metadata": {
        "colab": {
          "base_uri": "https://localhost:8080/"
        },
        "id": "7ICG9hwoWseu",
        "outputId": "c212d487-6bd0-470e-8beb-5df603baf7dd"
      },
      "execution_count": 26,
      "outputs": [
        {
          "output_type": "stream",
          "name": "stdout",
          "text": [
            "Drive already mounted at /content/gdrive; to attempt to forcibly remount, call drive.mount(\"/content/gdrive\", force_remount=True).\n"
          ]
        }
      ]
    },
    {
      "cell_type": "code",
      "execution_count": 27,
      "metadata": {
        "_uuid": "04299c886911ca135583ab64878f213939a2990c",
        "id": "AybZJOlT2mYX",
        "outputId": "733e228d-aa66-4e0e-bd3f-2cac1eae5fb2",
        "colab": {
          "base_uri": "https://localhost:8080/"
        }
      },
      "outputs": [
        {
          "output_type": "stream",
          "name": "stdout",
          "text": [
            "Found 400000 word vectors.\n",
            "(27058, 100)\n"
          ]
        }
      ],
      "source": [
        "# embedding matrix\n",
        "EMBEDDING_FILE = '/content/gdrive/My Drive/data/glove.6B.100d.txt'\n",
        "embed_dim = 100 #word vector dim\n",
        "embedding_matrix = get_embed_mat(EMBEDDING_FILE,max_features,embed_dim)\n",
        "print(embedding_matrix.shape)"
      ]
    },
    {
      "cell_type": "code",
      "execution_count": 28,
      "metadata": {
        "_uuid": "232533fb27b7be99d9b8c2f8fb22c9c6bf121a6f",
        "id": "k52v9c0l2mYY"
      },
      "outputs": [],
      "source": [
        "embedding_layer = Embedding(max_features, embed_dim, input_length=MAX_REVIEW_LEN,trainable=False)"
      ]
    },
    {
      "cell_type": "markdown",
      "metadata": {
        "_uuid": "b299ef78f94c2085942c993a2d58753a7476305a",
        "id": "rsBJiJGK2mYa"
      },
      "source": [
        "### Build Model"
      ]
    },
    {
      "cell_type": "code",
      "source": [
        "from tensorflow.keras.layers import Bidirectional\n",
        "from keras.layers import LSTM"
      ],
      "metadata": {
        "id": "EHGRuAeiXmEo"
      },
      "execution_count": 29,
      "outputs": []
    },
    {
      "cell_type": "code",
      "execution_count": 30,
      "metadata": {
        "_uuid": "e775ef4f1b74e6412457181383c39f2df554ef3f",
        "id": "79uZfYcg2mYa",
        "outputId": "3a2f93a6-f286-46b3-eba4-3d4d0ff281d4",
        "colab": {
          "base_uri": "https://localhost:8080/"
        }
      },
      "outputs": [
        {
          "output_type": "stream",
          "name": "stdout",
          "text": [
            "Model: \"sequential\"\n",
            "_________________________________________________________________\n",
            " Layer (type)                Output Shape              Param #   \n",
            "=================================================================\n",
            " embedding (Embedding)       (None, 36, 100)           2705800   \n",
            "                                                                 \n",
            " conv1d (Conv1D)             (None, 36, 128)           51328     \n",
            "                                                                 \n",
            " max_pooling1d (MaxPooling1D  (None, 18, 128)          0         \n",
            " )                                                               \n",
            "                                                                 \n",
            " conv1d_1 (Conv1D)           (None, 18, 64)            32832     \n",
            "                                                                 \n",
            " max_pooling1d_1 (MaxPooling  (None, 9, 64)            0         \n",
            " 1D)                                                             \n",
            "                                                                 \n",
            " bidirectional (Bidirectiona  (None, 512)              657408    \n",
            " l)                                                              \n",
            "                                                                 \n",
            " dropout (Dropout)           (None, 512)               0         \n",
            "                                                                 \n",
            " dense (Dense)               (None, 256)               131328    \n",
            "                                                                 \n",
            " dense_1 (Dense)             (None, 1)                 257       \n",
            "                                                                 \n",
            "=================================================================\n",
            "Total params: 3,578,953\n",
            "Trainable params: 873,153\n",
            "Non-trainable params: 2,705,800\n",
            "_________________________________________________________________\n"
          ]
        }
      ],
      "source": [
        "model = Sequential()\n",
        "model.add(embedding_layer)\n",
        "model.add(Conv1D(filters=128, kernel_size=4, padding='same', activation='relu'))\n",
        "model.add(MaxPooling1D(pool_size=2))\n",
        "model.add(Conv1D(filters=64, kernel_size=4, padding='same', activation='relu'))\n",
        "model.add(MaxPooling1D(pool_size=2))\n",
        "model.add(Bidirectional(LSTM(256, recurrent_dropout=0.3)))\n",
        "model.add(Dropout(0.3))\n",
        "model.add(Dense(256, activation='relu'))\n",
        "model.add(Dense(1, activation='sigmoid'))\n",
        "\n",
        "model.summary()"
      ]
    },
    {
      "cell_type": "markdown",
      "metadata": {
        "_uuid": "28d22eafd0c7d798dcf3d742bc92fb8577939e6c",
        "id": "M6bCh4gv2mYb"
      },
      "source": [
        "### Compile model"
      ]
    },
    {
      "cell_type": "code",
      "execution_count": 31,
      "metadata": {
        "_uuid": "1331e08d590bb2aa2033706c8faca217afc0f1c3",
        "id": "_w6m-4zt2mYb"
      },
      "outputs": [],
      "source": [
        "model.compile(loss='binary_crossentropy',\n",
        "              optimizer=\"adam\",\n",
        "              metrics=['accuracy'])"
      ]
    },
    {
      "cell_type": "markdown",
      "metadata": {
        "_uuid": "c7733127cb8b380e0c807268903bf4d03ef92542",
        "id": "N_D_X8U12mYc"
      },
      "source": [
        "### Callbacks"
      ]
    },
    {
      "cell_type": "code",
      "execution_count": 32,
      "metadata": {
        "_uuid": "a688df590386f5748da6fe00b01904fe6c71619e",
        "id": "Iw3mVhJL2mYc"
      },
      "outputs": [],
      "source": [
        "callbacks = [ReduceLROnPlateau(monitor='val_loss', patience=5, cooldown=0),\n",
        "             EarlyStopping(monitor='val_accuracy', min_delta=1e-4, patience=5)]"
      ]
    },
    {
      "cell_type": "markdown",
      "metadata": {
        "_uuid": "8d0873633dd49179c8cae17377641b97d323ef3b",
        "id": "LcSZyGxc2mYc"
      },
      "source": [
        "### Train"
      ]
    },
    {
      "cell_type": "code",
      "execution_count": 33,
      "metadata": {
        "_uuid": "2b659d390c6577dc5cdb6b6297934279b4e801d5",
        "id": "Oc7i6KsV2mYc",
        "outputId": "0e3ad0f0-639b-4b73-d93a-3c2cce036b68",
        "colab": {
          "base_uri": "https://localhost:8080/"
        }
      },
      "outputs": [
        {
          "output_type": "stream",
          "name": "stdout",
          "text": [
            "Epoch 1/12\n",
            "62/62 [==============================] - 90s 1s/step - loss: 0.5528 - accuracy: 0.7328 - val_loss: 0.4683 - val_accuracy: 0.7483 - lr: 0.0010\n",
            "Epoch 2/12\n",
            "62/62 [==============================] - 82s 1s/step - loss: 0.4312 - accuracy: 0.7897 - val_loss: 0.4073 - val_accuracy: 0.8043 - lr: 0.0010\n",
            "Epoch 3/12\n",
            "62/62 [==============================] - 79s 1s/step - loss: 0.3824 - accuracy: 0.8196 - val_loss: 0.3813 - val_accuracy: 0.8182 - lr: 0.0010\n",
            "Epoch 4/12\n",
            "62/62 [==============================] - 79s 1s/step - loss: 0.3388 - accuracy: 0.8421 - val_loss: 0.3738 - val_accuracy: 0.8260 - lr: 0.0010\n",
            "Epoch 5/12\n",
            "62/62 [==============================] - 80s 1s/step - loss: 0.3089 - accuracy: 0.8598 - val_loss: 0.3916 - val_accuracy: 0.8307 - lr: 0.0010\n",
            "Epoch 6/12\n",
            "62/62 [==============================] - 80s 1s/step - loss: 0.2741 - accuracy: 0.8793 - val_loss: 0.3801 - val_accuracy: 0.8203 - lr: 0.0010\n",
            "Epoch 7/12\n",
            "62/62 [==============================] - 79s 1s/step - loss: 0.2515 - accuracy: 0.8923 - val_loss: 0.4065 - val_accuracy: 0.8324 - lr: 0.0010\n",
            "Epoch 8/12\n",
            "62/62 [==============================] - 79s 1s/step - loss: 0.2169 - accuracy: 0.9096 - val_loss: 0.4107 - val_accuracy: 0.8278 - lr: 0.0010\n",
            "Epoch 9/12\n",
            "62/62 [==============================] - 80s 1s/step - loss: 0.1941 - accuracy: 0.9219 - val_loss: 0.4694 - val_accuracy: 0.8304 - lr: 0.0010\n",
            "Epoch 10/12\n",
            "62/62 [==============================] - 80s 1s/step - loss: 0.1319 - accuracy: 0.9518 - val_loss: 0.5967 - val_accuracy: 0.8270 - lr: 1.0000e-04\n",
            "Epoch 11/12\n",
            "62/62 [==============================] - 82s 1s/step - loss: 0.1153 - accuracy: 0.9596 - val_loss: 0.6177 - val_accuracy: 0.8251 - lr: 1.0000e-04\n",
            "Epoch 12/12\n",
            "62/62 [==============================] - 80s 1s/step - loss: 0.1063 - accuracy: 0.9635 - val_loss: 0.6501 - val_accuracy: 0.8237 - lr: 1.0000e-04\n",
            "CPU times: user 29min 59s, sys: 1min 1s, total: 31min\n",
            "Wall time: 16min 11s\n"
          ]
        }
      ],
      "source": [
        "%%time\n",
        "history = model.fit(x_train, y_train,\n",
        "                    batch_size=batch_size,\n",
        "                    epochs=epochs,\n",
        "                    validation_split=0.1,\n",
        "                    verbose=1,\n",
        "                    callbacks=callbacks)"
      ]
    },
    {
      "cell_type": "markdown",
      "metadata": {
        "_uuid": "267258196d96796ac69a7b8c466314bcf5d6ee42",
        "id": "8_ulZDIT2mYd"
      },
      "source": [
        "### Evaluate"
      ]
    },
    {
      "cell_type": "code",
      "execution_count": 34,
      "metadata": {
        "_uuid": "98ecd8f1b8b74594c3ea775dd68a094e92458022",
        "id": "tbaqafo02mYe",
        "outputId": "e4997c0b-1a02-45ac-ff13-6cbf6419bf3d",
        "colab": {
          "base_uri": "https://localhost:8080/"
        }
      },
      "outputs": [
        {
          "output_type": "stream",
          "name": "stdout",
          "text": [
            "8/8 [==============================] - 3s 325ms/step - loss: 0.6596 - accuracy: 0.8222\n",
            "\n",
            "ACCURACY: 0.8221541047096252\n",
            "LOSS: 0.6595911979675293\n",
            "CPU times: user 4.93 s, sys: 138 ms, total: 5.06 s\n",
            "Wall time: 5.19 s\n"
          ]
        }
      ],
      "source": [
        "%%time\n",
        "score = model.evaluate(x_test, y_test, batch_size=batch_size)\n",
        "print()\n",
        "print(\"ACCURACY:\",score[1])\n",
        "print(\"LOSS:\",score[0])"
      ]
    },
    {
      "cell_type": "code",
      "execution_count": 35,
      "metadata": {
        "_uuid": "40c72cd1e9d6c4fd799cbba7c813765ac4039dfc",
        "id": "qzCAdWiQ2mYe",
        "outputId": "e1362048-959c-4dd6-e900-ea7376ee92fd",
        "colab": {
          "base_uri": "https://localhost:8080/",
          "height": 545
        }
      },
      "outputs": [
        {
          "output_type": "display_data",
          "data": {
            "text/plain": [
              "<Figure size 432x288 with 1 Axes>"
            ],
            "image/png": "[encoded data removed]"
          },
          "metadata": {
            "needs_background": "light"
          }
        },
        {
          "output_type": "display_data",
          "data": {
            "text/plain": [
              "<Figure size 432x288 with 1 Axes>"
            ],
            "image/png": "[encoded data removed]"
          },
          "metadata": {
            "needs_background": "light"
          }
        }
      ],
      "source": [
        "acc = history.history['accuracy']\n",
        "val_acc = history.history['val_accuracy']\n",
        "loss = history.history['loss']\n",
        "val_loss = history.history['val_loss']\n",
        " \n",
        "epochs = range(len(acc))\n",
        " \n",
        "plt.plot(epochs, acc, 'b', label='Training acc')\n",
        "plt.plot(epochs, val_acc, 'r', label='Validation acc')\n",
        "plt.title('Training and validation accuracy')\n",
        "plt.legend()\n",
        " \n",
        "plt.figure()\n",
        " \n",
        "plt.plot(epochs, loss, 'b', label='Training loss')\n",
        "plt.plot(epochs, val_loss, 'r', label='Validation loss')\n",
        "plt.title('Training and validation loss')\n",
        "plt.legend()\n",
        " \n",
        "plt.show()"
      ]
    },
    {
      "cell_type": "markdown",
      "metadata": {
        "_uuid": "3ee72e47f84b6dbc32e02a783de5ec1661f157e1",
        "id": "rCj76JU42mYf"
      },
      "source": [
        "### Confusion Matrix"
      ]
    },
    {
      "cell_type": "code",
      "execution_count": 36,
      "metadata": {
        "id": "2z25osLn2mYf"
      },
      "outputs": [],
      "source": [
        "import seaborn as sns\n",
        "\n",
        "def ConfusionMatrix(y_pred, y_test):\n",
        "    # Compute and plot the Confusion matrix\n",
        "    cf_matrix = confusion_matrix(y_test, y_pred)\n",
        "\n",
        "    categories  = ['0','1']\n",
        "    group_names = ['True Neg','False Pos', 'False Neg','True Pos']\n",
        "    group_percentages = ['{0:.2%}'.format(value) for value in cf_matrix.flatten() / np.sum(cf_matrix)]\n",
        "\n",
        "    labels = [f'{v1}\\n{v2}' for v1, v2 in zip(group_names,group_percentages)]\n",
        "    labels = np.asarray(labels).reshape(2,2)\n",
        "\n",
        "    sns.heatmap(cf_matrix, annot = True, cmap = 'Blues',fmt = '',\n",
        "                xticklabels = categories, yticklabels = categories)\n",
        "\n",
        "    plt.xlabel(\"Predicted values\", fontdict = {'size':14}, labelpad = 10)\n",
        "    plt.ylabel(\"Actual values\"   , fontdict = {'size':14}, labelpad = 10)\n",
        "    plt.title (\"Confusion Matrix\", fontdict = {'size':18}, pad = 20)"
      ]
    },
    {
      "cell_type": "code",
      "execution_count": 37,
      "metadata": {
        "id": "IfR06nEb2mYf",
        "outputId": "ad557ec6-eca3-4d82-bd03-88cbe18c04bc",
        "colab": {
          "base_uri": "https://localhost:8080/",
          "height": 323
        }
      },
      "outputs": [
        {
          "output_type": "display_data",
          "data": {
            "text/plain": [
              "<Figure size 432x288 with 2 Axes>"
            ],
            "image/png": "[encoded data removed]"
          },
          "metadata": {
            "needs_background": "light"
          }
        }
      ],
      "source": [
        "# Predicting on the Test dataset.\n",
        "y_pred = model.predict(x_test)\n",
        "\n",
        "# Converting prediction to reflect the sentiment predicted.\n",
        "y_pred = np.where(y_pred>=0.5, 1, 0)\n",
        "\n",
        "# Printing out the Evaluation metrics. \n",
        "ConfusionMatrix(y_pred, y_test)"
      ]
    },
    {
      "cell_type": "markdown",
      "metadata": {
        "_uuid": "e23b957348dcc084249d3cc7538b972da471c2cd",
        "id": "g_lGJcR22mYg"
      },
      "source": [
        "### Classification Report"
      ]
    },
    {
      "cell_type": "code",
      "execution_count": 38,
      "metadata": {
        "_uuid": "a7fe05b7caa1c984ff1deb0be2f7c6bc043df9f5",
        "id": "JeWekRkZ2mYg",
        "outputId": "85e1b245-1fd1-4488-d577-e64a196ea629",
        "colab": {
          "base_uri": "https://localhost:8080/"
        }
      },
      "outputs": [
        {
          "output_type": "stream",
          "name": "stdout",
          "text": [
            "              precision    recall  f1-score   support\n",
            "\n",
            "           0     0.8670    0.8951    0.8808      5747\n",
            "           1     0.6816    0.6207    0.6497      2080\n",
            "\n",
            "    accuracy                         0.8222      7827\n",
            "   macro avg     0.7743    0.7579    0.7653      7827\n",
            "weighted avg     0.8177    0.8222    0.8194      7827\n",
            "\n"
          ]
        }
      ],
      "source": [
        "# Print the evaluation metrics for the dataset.\n",
        "print(classification_report(y_test, y_pred, digits=4))"
      ]
    },
    {
      "cell_type": "markdown",
      "metadata": {
        "_uuid": "4eb300f0c6693a618587c7dcf32f77f5416cbfb9",
        "id": "v0A78mc72mYg"
      },
      "source": [
        "### Accuracy Score"
      ]
    },
    {
      "cell_type": "code",
      "execution_count": 39,
      "metadata": {
        "_uuid": "5cf76e6e09f8a60ed25947932b94c772eda44d23",
        "id": "sKmtclDO2mYh",
        "outputId": "ff25b202-4179-4029-9738-c2ecea24d870",
        "colab": {
          "base_uri": "https://localhost:8080/"
        }
      },
      "outputs": [
        {
          "output_type": "execute_result",
          "data": {
            "text/plain": [
              "0.8221540820237639"
            ]
          },
          "metadata": {},
          "execution_count": 39
        }
      ],
      "source": [
        "accuracy_score(y_test, y_pred)"
      ]
    },
    {
      "cell_type": "markdown",
      "metadata": {
        "_uuid": "4f014c32f3833db282e1a075c526604f34e3158c",
        "id": "0Vdc5as-2mYh"
      },
      "source": [
        "### Save model"
      ]
    },
    {
      "cell_type": "code",
      "execution_count": null,
      "metadata": {
        "_uuid": "3b2b3ad5b592977b404acfa1c9ad303a62837255",
        "id": "COY1eoGi2mYh",
        "colab": {
          "base_uri": "https://localhost:8080/",
          "height": 219
        },
        "outputId": "29d32a04-cfff-44a0-90fc-14217edc590b"
      },
      "outputs": [
        {
          "output_type": "error",
          "ename": "NameError",
          "evalue": "ignored",
          "traceback": [
            "\u001b[0;31m---------------------------------------------------------------------------\u001b[0m",
            "\u001b[0;31mNameError\u001b[0m                                 Traceback (most recent call last)",
            "\u001b[0;32m<ipython-input-59-309385fb3407>\u001b[0m in \u001b[0;36m<module>\u001b[0;34m()\u001b[0m\n\u001b[0;32m----> 1\u001b[0;31m \u001b[0mmodel\u001b[0m\u001b[0;34m.\u001b[0m\u001b[0msave\u001b[0m\u001b[0;34m(\u001b[0m\u001b[0mKERAS_MODEL\u001b[0m\u001b[0;34m)\u001b[0m\u001b[0;34m\u001b[0m\u001b[0;34m\u001b[0m\u001b[0m\n\u001b[0m\u001b[1;32m      2\u001b[0m \u001b[0mw2v_model\u001b[0m\u001b[0;34m.\u001b[0m\u001b[0msave\u001b[0m\u001b[0;34m(\u001b[0m\u001b[0mWORD2VEC_MODEL\u001b[0m\u001b[0;34m)\u001b[0m\u001b[0;34m\u001b[0m\u001b[0;34m\u001b[0m\u001b[0m\n\u001b[1;32m      3\u001b[0m \u001b[0mpickle\u001b[0m\u001b[0;34m.\u001b[0m\u001b[0mdump\u001b[0m\u001b[0;34m(\u001b[0m\u001b[0mtokenizer\u001b[0m\u001b[0;34m,\u001b[0m \u001b[0mopen\u001b[0m\u001b[0;34m(\u001b[0m\u001b[0mTOKENIZER_MODEL\u001b[0m\u001b[0;34m,\u001b[0m \u001b[0;34m\"wb\"\u001b[0m\u001b[0;34m)\u001b[0m\u001b[0;34m,\u001b[0m \u001b[0mprotocol\u001b[0m\u001b[0;34m=\u001b[0m\u001b[0;36m0\u001b[0m\u001b[0;34m)\u001b[0m\u001b[0;34m\u001b[0m\u001b[0;34m\u001b[0m\u001b[0m\n\u001b[1;32m      4\u001b[0m \u001b[0mpickle\u001b[0m\u001b[0;34m.\u001b[0m\u001b[0mdump\u001b[0m\u001b[0;34m(\u001b[0m\u001b[0mencoder\u001b[0m\u001b[0;34m,\u001b[0m \u001b[0mopen\u001b[0m\u001b[0;34m(\u001b[0m\u001b[0mENCODER_MODEL\u001b[0m\u001b[0;34m,\u001b[0m \u001b[0;34m\"wb\"\u001b[0m\u001b[0;34m)\u001b[0m\u001b[0;34m,\u001b[0m \u001b[0mprotocol\u001b[0m\u001b[0;34m=\u001b[0m\u001b[0;36m0\u001b[0m\u001b[0;34m)\u001b[0m\u001b[0;34m\u001b[0m\u001b[0;34m\u001b[0m\u001b[0m\n",
            "\u001b[0;31mNameError\u001b[0m: name 'KERAS_MODEL' is not defined"
          ]
        }
      ],
      "source": [
        "model.save(KERAS_MODEL)\n",
        "w2v_model.save(WORD2VEC_MODEL)\n",
        "pickle.dump(tokenizer, open(TOKENIZER_MODEL, \"wb\"), protocol=0)\n",
        "pickle.dump(encoder, open(ENCODER_MODEL, \"wb\"), protocol=0)"
      ]
    },
    {
      "cell_type": "code",
      "execution_count": null,
      "metadata": {
        "_uuid": "cc363c54782894757f5ea8820c6a170f2e16ef93",
        "id": "7eVuVA9t2mYi"
      },
      "outputs": [],
      "source": [
        ""
      ]
    }
  ],
  "metadata": {
    "kernelspec": {
      "display_name": "Python 3 (ipykernel)",
      "language": "python",
      "name": "python3"
    },
    "language_info": {
      "codemirror_mode": {
        "name": "ipython",
        "version": 3
      },
      "file_extension": ".py",
      "mimetype": "text/x-python",
      "name": "python",
      "nbconvert_exporter": "python",
      "pygments_lexer": "ipython3",
      "version": "3.10.2"
    },
    "colab": {
      "name": "Glove_+_CNN_BILSTM_1_krl-stage1.ipynb",
      "provenance": [],
      "collapsed_sections": []
    }
  },
  "nbformat": 4,
  "nbformat_minor": 0
}